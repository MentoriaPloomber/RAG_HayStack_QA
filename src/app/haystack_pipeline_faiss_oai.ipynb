{
  "cells": [
    {
      "cell_type": "code",
      "execution_count": null,
      "metadata": {
        "id": "ZIBnmc6BAl63"
      },
      "outputs": [],
      "source": [
        "%%bash\n",
        "\n",
        "nvidia-smi\n",
        ".."
      ]
    },
    {
      "cell_type": "code",
      "execution_count": 1,
      "metadata": {
        "id": "QA0SJicb8Ffm"
      },
      "outputs": [],
      "source": [
        "import logging\n",
        "\n",
        "logging.basicConfig(format=\"%(levelname)s - %(name)s -  %(message)s\", level=logging.WARNING)\n",
        "logging.getLogger(\"haystack\").setLevel(logging.INFO)"
      ]
    },
    {
      "cell_type": "code",
      "execution_count": null,
      "metadata": {
        "colab": {
          "base_uri": "https://localhost:8080/"
        },
        "id": "404_-d53DiT6",
        "outputId": "b6ed62d1-c605-415a-84e0-1ec0969d885a"
      },
      "outputs": [
        {
          "name": "stdout",
          "output_type": "stream",
          "text": [
            "Mounted at /content/drive\n"
          ]
        }
      ],
      "source": [
        "from google.colab import drive\n",
        "drive.mount('/content/drive')"
      ]
    },
    {
      "cell_type": "code",
      "execution_count": null,
      "metadata": {
        "colab": {
          "base_uri": "https://localhost:8080/"
        },
        "id": "aTgxuyrN5Zwp",
        "outputId": "81124ad3-a7e9-4e44-ff62-54c9935628a5"
      },
      "outputs": [
        {
          "name": "stdout",
          "output_type": "stream",
          "text": [
            "/content/drive/MyDrive/hacktoberfest_ploomber\n"
          ]
        }
      ],
      "source": [
        "cd drive/MyDrive/hacktoberfest_ploomber"
      ]
    },
    {
      "cell_type": "code",
      "execution_count": 2,
      "metadata": {
        "id": "fXJ5elnHGWJ7"
      },
      "outputs": [
        {
          "name": "stdout",
          "output_type": "stream",
          "text": [
            "Requirement already satisfied: pip in /Users/anuarmenconemes/opt/anaconda3/envs/hacktoberfest-env/lib/python3.10/site-packages (23.3)\n",
            "Collecting pip\n",
            "  Downloading pip-23.3.1-py3-none-any.whl.metadata (3.5 kB)\n",
            "Downloading pip-23.3.1-py3-none-any.whl (2.1 MB)\n",
            "\u001b[2K   \u001b[90m━━━━━━━━━━━━━━━━━━━━━━━━━━━━━━━━━━━━━━━━\u001b[0m \u001b[32m2.1/2.1 MB\u001b[0m \u001b[31m12.8 MB/s\u001b[0m eta \u001b[36m0:00:00\u001b[0ma \u001b[36m0:00:01\u001b[0m\n",
            "\u001b[?25hInstalling collected packages: pip\n",
            "  Attempting uninstall: pip\n",
            "    Found existing installation: pip 23.3\n",
            "    Uninstalling pip-23.3:\n",
            "      Successfully uninstalled pip-23.3\n",
            "Successfully installed pip-23.3.1\n"
          ]
        },
        {
          "name": "stderr",
          "output_type": "stream",
          "text": [
            "\u001b[33mWARNING: There was an error checking the latest version of pip.\u001b[0m\u001b[33m\n"
          ]
        },
        {
          "name": "stdout",
          "output_type": "stream",
          "text": [
            "Requirement already satisfied: farm-haystack[colab,faiss,inference] in /Users/anuarmenconemes/opt/anaconda3/envs/hacktoberfest-env/lib/python3.10/site-packages (1.20.1)\n",
            "Requirement already satisfied: boilerpy3 in /Users/anuarmenconemes/opt/anaconda3/envs/hacktoberfest-env/lib/python3.10/site-packages (from farm-haystack[colab,faiss,inference]) (1.0.6)\n",
            "Requirement already satisfied: canals==0.7.0 in /Users/anuarmenconemes/opt/anaconda3/envs/hacktoberfest-env/lib/python3.10/site-packages (from farm-haystack[colab,faiss,inference]) (0.7.0)\n",
            "Requirement already satisfied: events in /Users/anuarmenconemes/opt/anaconda3/envs/hacktoberfest-env/lib/python3.10/site-packages (from farm-haystack[colab,faiss,inference]) (0.5)\n",
            "Requirement already satisfied: jsonschema in /Users/anuarmenconemes/opt/anaconda3/envs/hacktoberfest-env/lib/python3.10/site-packages (from farm-haystack[colab,faiss,inference]) (4.19.1)\n",
            "Requirement already satisfied: lazy-imports==0.3.1 in /Users/anuarmenconemes/opt/anaconda3/envs/hacktoberfest-env/lib/python3.10/site-packages (from farm-haystack[colab,faiss,inference]) (0.3.1)\n",
            "Requirement already satisfied: more-itertools in /Users/anuarmenconemes/opt/anaconda3/envs/hacktoberfest-env/lib/python3.10/site-packages (from farm-haystack[colab,faiss,inference]) (10.1.0)\n",
            "Requirement already satisfied: networkx in /Users/anuarmenconemes/opt/anaconda3/envs/hacktoberfest-env/lib/python3.10/site-packages (from farm-haystack[colab,faiss,inference]) (3.1)\n",
            "Requirement already satisfied: pandas in /Users/anuarmenconemes/opt/anaconda3/envs/hacktoberfest-env/lib/python3.10/site-packages (from farm-haystack[colab,faiss,inference]) (2.0.3)\n",
            "Requirement already satisfied: pillow in /Users/anuarmenconemes/opt/anaconda3/envs/hacktoberfest-env/lib/python3.10/site-packages (from farm-haystack[colab,faiss,inference]) (9.0.0)\n",
            "Requirement already satisfied: platformdirs in /Users/anuarmenconemes/opt/anaconda3/envs/hacktoberfest-env/lib/python3.10/site-packages (from farm-haystack[colab,faiss,inference]) (3.10.0)\n",
            "Requirement already satisfied: posthog in /Users/anuarmenconemes/opt/anaconda3/envs/hacktoberfest-env/lib/python3.10/site-packages (from farm-haystack[colab,faiss,inference]) (3.0.2)\n",
            "Requirement already satisfied: prompthub-py==4.0.0 in /Users/anuarmenconemes/opt/anaconda3/envs/hacktoberfest-env/lib/python3.10/site-packages (from farm-haystack[colab,faiss,inference]) (4.0.0)\n",
            "Requirement already satisfied: pydantic<2 in /Users/anuarmenconemes/opt/anaconda3/envs/hacktoberfest-env/lib/python3.10/site-packages (from farm-haystack[colab,faiss,inference]) (1.10.12)\n",
            "Requirement already satisfied: quantulum3 in /Users/anuarmenconemes/opt/anaconda3/envs/hacktoberfest-env/lib/python3.10/site-packages (from farm-haystack[colab,faiss,inference]) (0.9.0)\n",
            "Requirement already satisfied: rank-bm25 in /Users/anuarmenconemes/opt/anaconda3/envs/hacktoberfest-env/lib/python3.10/site-packages (from farm-haystack[colab,faiss,inference]) (0.2.2)\n",
            "Requirement already satisfied: requests in /Users/anuarmenconemes/opt/anaconda3/envs/hacktoberfest-env/lib/python3.10/site-packages (from farm-haystack[colab,faiss,inference]) (2.31.0)\n",
            "Requirement already satisfied: requests-cache<1.0.0 in /Users/anuarmenconemes/opt/anaconda3/envs/hacktoberfest-env/lib/python3.10/site-packages (from farm-haystack[colab,faiss,inference]) (0.9.8)\n",
            "Requirement already satisfied: scikit-learn>=1.3.0 in /Users/anuarmenconemes/opt/anaconda3/envs/hacktoberfest-env/lib/python3.10/site-packages (from farm-haystack[colab,faiss,inference]) (1.3.1)\n",
            "Requirement already satisfied: sseclient-py in /Users/anuarmenconemes/opt/anaconda3/envs/hacktoberfest-env/lib/python3.10/site-packages (from farm-haystack[colab,faiss,inference]) (1.8.0)\n",
            "Requirement already satisfied: tenacity in /Users/anuarmenconemes/opt/anaconda3/envs/hacktoberfest-env/lib/python3.10/site-packages (from farm-haystack[colab,faiss,inference]) (8.2.3)\n",
            "Requirement already satisfied: tiktoken<0.5.0,>=0.3.2 in /Users/anuarmenconemes/opt/anaconda3/envs/hacktoberfest-env/lib/python3.10/site-packages (from farm-haystack[colab,faiss,inference]) (0.4.0)\n",
            "Requirement already satisfied: tqdm in /Users/anuarmenconemes/opt/anaconda3/envs/hacktoberfest-env/lib/python3.10/site-packages (from farm-haystack[colab,faiss,inference]) (4.66.1)\n",
            "Requirement already satisfied: transformers==4.32.1 in /Users/anuarmenconemes/opt/anaconda3/envs/hacktoberfest-env/lib/python3.10/site-packages (from farm-haystack[colab,faiss,inference]) (4.32.1)\n",
            "Requirement already satisfied: huggingface-hub>=0.5.0 in /Users/anuarmenconemes/opt/anaconda3/envs/hacktoberfest-env/lib/python3.10/site-packages (from farm-haystack[colab,faiss,inference]) (0.17.2)\n",
            "Requirement already satisfied: sentence-transformers>=2.2.0 in /Users/anuarmenconemes/opt/anaconda3/envs/hacktoberfest-env/lib/python3.10/site-packages (from farm-haystack[colab,faiss,inference]) (2.2.2)\n",
            "Requirement already satisfied: pyyaml<7.0,>=6.0 in /Users/anuarmenconemes/opt/anaconda3/envs/hacktoberfest-env/lib/python3.10/site-packages (from prompthub-py==4.0.0->farm-haystack[colab,faiss,inference]) (6.0.1)\n",
            "Requirement already satisfied: filelock in /Users/anuarmenconemes/opt/anaconda3/envs/hacktoberfest-env/lib/python3.10/site-packages (from transformers==4.32.1->farm-haystack[colab,faiss,inference]) (3.12.4)\n",
            "Requirement already satisfied: numpy>=1.17 in /Users/anuarmenconemes/opt/anaconda3/envs/hacktoberfest-env/lib/python3.10/site-packages (from transformers==4.32.1->farm-haystack[colab,faiss,inference]) (1.25.2)\n",
            "Requirement already satisfied: packaging>=20.0 in /Users/anuarmenconemes/opt/anaconda3/envs/hacktoberfest-env/lib/python3.10/site-packages (from transformers==4.32.1->farm-haystack[colab,faiss,inference]) (23.1)\n",
            "Requirement already satisfied: regex!=2019.12.17 in /Users/anuarmenconemes/opt/anaconda3/envs/hacktoberfest-env/lib/python3.10/site-packages (from transformers==4.32.1->farm-haystack[colab,faiss,inference]) (2023.8.8)\n",
            "Requirement already satisfied: tokenizers!=0.11.3,<0.14,>=0.11.1 in /Users/anuarmenconemes/opt/anaconda3/envs/hacktoberfest-env/lib/python3.10/site-packages (from transformers==4.32.1->farm-haystack[colab,faiss,inference]) (0.13.3)\n",
            "Requirement already satisfied: safetensors>=0.3.1 in /Users/anuarmenconemes/opt/anaconda3/envs/hacktoberfest-env/lib/python3.10/site-packages (from transformers==4.32.1->farm-haystack[colab,faiss,inference]) (0.3.3)\n",
            "Requirement already satisfied: sentencepiece!=0.1.92,>=0.1.91 in /Users/anuarmenconemes/opt/anaconda3/envs/hacktoberfest-env/lib/python3.10/site-packages (from transformers[sentencepiece,torch]==4.32.1; extra == \"inference\"->farm-haystack[colab,faiss,inference]) (0.1.99)\n",
            "Requirement already satisfied: protobuf in /Users/anuarmenconemes/opt/anaconda3/envs/hacktoberfest-env/lib/python3.10/site-packages (from transformers[sentencepiece,torch]==4.32.1; extra == \"inference\"->farm-haystack[colab,faiss,inference]) (4.24.3)\n",
            "Requirement already satisfied: torch!=1.12.0,>=1.9 in /Users/anuarmenconemes/opt/anaconda3/envs/hacktoberfest-env/lib/python3.10/site-packages (from transformers[sentencepiece,torch]==4.32.1; extra == \"inference\"->farm-haystack[colab,faiss,inference]) (2.0.1)\n",
            "Requirement already satisfied: accelerate>=0.20.3 in /Users/anuarmenconemes/opt/anaconda3/envs/hacktoberfest-env/lib/python3.10/site-packages (from transformers[sentencepiece,torch]==4.32.1; extra == \"inference\"->farm-haystack[colab,faiss,inference]) (0.23.0)\n",
            "Requirement already satisfied: fsspec in /Users/anuarmenconemes/opt/anaconda3/envs/hacktoberfest-env/lib/python3.10/site-packages (from huggingface-hub>=0.5.0->farm-haystack[colab,faiss,inference]) (2023.9.1)\n",
            "Requirement already satisfied: typing-extensions>=3.7.4.3 in /Users/anuarmenconemes/opt/anaconda3/envs/hacktoberfest-env/lib/python3.10/site-packages (from huggingface-hub>=0.5.0->farm-haystack[colab,faiss,inference]) (4.8.0)\n",
            "Requirement already satisfied: charset-normalizer<4,>=2 in /Users/anuarmenconemes/opt/anaconda3/envs/hacktoberfest-env/lib/python3.10/site-packages (from requests->farm-haystack[colab,faiss,inference]) (3.2.0)\n",
            "Requirement already satisfied: idna<4,>=2.5 in /Users/anuarmenconemes/opt/anaconda3/envs/hacktoberfest-env/lib/python3.10/site-packages (from requests->farm-haystack[colab,faiss,inference]) (3.4)\n",
            "Requirement already satisfied: urllib3<3,>=1.21.1 in /Users/anuarmenconemes/opt/anaconda3/envs/hacktoberfest-env/lib/python3.10/site-packages (from requests->farm-haystack[colab,faiss,inference]) (2.0.5)\n",
            "Requirement already satisfied: certifi>=2017.4.17 in /Users/anuarmenconemes/opt/anaconda3/envs/hacktoberfest-env/lib/python3.10/site-packages (from requests->farm-haystack[colab,faiss,inference]) (2023.7.22)\n",
            "Requirement already satisfied: appdirs>=1.4.4 in /Users/anuarmenconemes/opt/anaconda3/envs/hacktoberfest-env/lib/python3.10/site-packages (from requests-cache<1.0.0->farm-haystack[colab,faiss,inference]) (1.4.4)\n",
            "Requirement already satisfied: attrs>=21.2 in /Users/anuarmenconemes/opt/anaconda3/envs/hacktoberfest-env/lib/python3.10/site-packages (from requests-cache<1.0.0->farm-haystack[colab,faiss,inference]) (23.1.0)\n",
            "Requirement already satisfied: cattrs>=22.2 in /Users/anuarmenconemes/opt/anaconda3/envs/hacktoberfest-env/lib/python3.10/site-packages (from requests-cache<1.0.0->farm-haystack[colab,faiss,inference]) (23.1.2)\n",
            "Requirement already satisfied: url-normalize>=1.4 in /Users/anuarmenconemes/opt/anaconda3/envs/hacktoberfest-env/lib/python3.10/site-packages (from requests-cache<1.0.0->farm-haystack[colab,faiss,inference]) (1.4.3)\n",
            "Requirement already satisfied: scipy>=1.5.0 in /Users/anuarmenconemes/opt/anaconda3/envs/hacktoberfest-env/lib/python3.10/site-packages (from scikit-learn>=1.3.0->farm-haystack[colab,faiss,inference]) (1.9.3)\n",
            "Requirement already satisfied: joblib>=1.1.1 in /Users/anuarmenconemes/opt/anaconda3/envs/hacktoberfest-env/lib/python3.10/site-packages (from scikit-learn>=1.3.0->farm-haystack[colab,faiss,inference]) (1.3.2)\n",
            "Requirement already satisfied: threadpoolctl>=2.0.0 in /Users/anuarmenconemes/opt/anaconda3/envs/hacktoberfest-env/lib/python3.10/site-packages (from scikit-learn>=1.3.0->farm-haystack[colab,faiss,inference]) (3.2.0)\n",
            "Requirement already satisfied: torchvision in /Users/anuarmenconemes/opt/anaconda3/envs/hacktoberfest-env/lib/python3.10/site-packages (from sentence-transformers>=2.2.0->farm-haystack[colab,faiss,inference]) (0.15.2)\n",
            "Requirement already satisfied: nltk in /Users/anuarmenconemes/opt/anaconda3/envs/hacktoberfest-env/lib/python3.10/site-packages (from sentence-transformers>=2.2.0->farm-haystack[colab,faiss,inference]) (3.8.1)\n",
            "Requirement already satisfied: psycopg2-binary in /Users/anuarmenconemes/opt/anaconda3/envs/hacktoberfest-env/lib/python3.10/site-packages (from farm-haystack[colab,faiss,inference]) (2.9.9)\n",
            "Requirement already satisfied: sqlalchemy-utils in /Users/anuarmenconemes/opt/anaconda3/envs/hacktoberfest-env/lib/python3.10/site-packages (from farm-haystack[colab,faiss,inference]) (0.41.1)\n",
            "Requirement already satisfied: sqlalchemy<2,>=1.4.2 in /Users/anuarmenconemes/opt/anaconda3/envs/hacktoberfest-env/lib/python3.10/site-packages (from farm-haystack[colab,faiss,inference]) (1.4.49)\n",
            "Requirement already satisfied: faiss-cpu<=1.7.2,>=1.6.3 in /Users/anuarmenconemes/opt/anaconda3/envs/hacktoberfest-env/lib/python3.10/site-packages (from farm-haystack[colab,faiss,inference]) (1.7.2)\n",
            "Requirement already satisfied: jsonschema-specifications>=2023.03.6 in /Users/anuarmenconemes/opt/anaconda3/envs/hacktoberfest-env/lib/python3.10/site-packages (from jsonschema->farm-haystack[colab,faiss,inference]) (2023.7.1)\n",
            "Requirement already satisfied: referencing>=0.28.4 in /Users/anuarmenconemes/opt/anaconda3/envs/hacktoberfest-env/lib/python3.10/site-packages (from jsonschema->farm-haystack[colab,faiss,inference]) (0.30.2)\n",
            "Requirement already satisfied: rpds-py>=0.7.1 in /Users/anuarmenconemes/opt/anaconda3/envs/hacktoberfest-env/lib/python3.10/site-packages (from jsonschema->farm-haystack[colab,faiss,inference]) (0.10.3)\n",
            "Requirement already satisfied: python-dateutil>=2.8.2 in /Users/anuarmenconemes/opt/anaconda3/envs/hacktoberfest-env/lib/python3.10/site-packages (from pandas->farm-haystack[colab,faiss,inference]) (2.8.2)\n",
            "Requirement already satisfied: pytz>=2020.1 in /Users/anuarmenconemes/opt/anaconda3/envs/hacktoberfest-env/lib/python3.10/site-packages (from pandas->farm-haystack[colab,faiss,inference]) (2023.3.post1)\n",
            "Requirement already satisfied: tzdata>=2022.1 in /Users/anuarmenconemes/opt/anaconda3/envs/hacktoberfest-env/lib/python3.10/site-packages (from pandas->farm-haystack[colab,faiss,inference]) (2023.3)\n",
            "Requirement already satisfied: six>=1.5 in /Users/anuarmenconemes/opt/anaconda3/envs/hacktoberfest-env/lib/python3.10/site-packages (from posthog->farm-haystack[colab,faiss,inference]) (1.16.0)\n",
            "Requirement already satisfied: monotonic>=1.5 in /Users/anuarmenconemes/opt/anaconda3/envs/hacktoberfest-env/lib/python3.10/site-packages (from posthog->farm-haystack[colab,faiss,inference]) (1.6)\n",
            "Requirement already satisfied: backoff>=1.10.0 in /Users/anuarmenconemes/opt/anaconda3/envs/hacktoberfest-env/lib/python3.10/site-packages (from posthog->farm-haystack[colab,faiss,inference]) (2.2.1)\n",
            "Requirement already satisfied: inflect in /Users/anuarmenconemes/opt/anaconda3/envs/hacktoberfest-env/lib/python3.10/site-packages (from quantulum3->farm-haystack[colab,faiss,inference]) (7.0.0)\n",
            "Requirement already satisfied: num2words in /Users/anuarmenconemes/opt/anaconda3/envs/hacktoberfest-env/lib/python3.10/site-packages (from quantulum3->farm-haystack[colab,faiss,inference]) (0.5.12)\n",
            "Requirement already satisfied: psutil in /Users/anuarmenconemes/opt/anaconda3/envs/hacktoberfest-env/lib/python3.10/site-packages (from accelerate>=0.20.3->transformers[sentencepiece,torch]==4.32.1; extra == \"inference\"->farm-haystack[colab,faiss,inference]) (5.9.5)\n",
            "Requirement already satisfied: exceptiongroup in /Users/anuarmenconemes/opt/anaconda3/envs/hacktoberfest-env/lib/python3.10/site-packages (from cattrs>=22.2->requests-cache<1.0.0->farm-haystack[colab,faiss,inference]) (1.1.3)\n",
            "Requirement already satisfied: greenlet!=0.4.17 in /Users/anuarmenconemes/opt/anaconda3/envs/hacktoberfest-env/lib/python3.10/site-packages (from sqlalchemy<2,>=1.4.2->farm-haystack[colab,faiss,inference]) (2.0.2)\n",
            "Requirement already satisfied: sympy in /Users/anuarmenconemes/opt/anaconda3/envs/hacktoberfest-env/lib/python3.10/site-packages (from torch!=1.12.0,>=1.9->transformers[sentencepiece,torch]==4.32.1; extra == \"inference\"->farm-haystack[colab,faiss,inference]) (1.12)\n",
            "Requirement already satisfied: jinja2 in /Users/anuarmenconemes/opt/anaconda3/envs/hacktoberfest-env/lib/python3.10/site-packages (from torch!=1.12.0,>=1.9->transformers[sentencepiece,torch]==4.32.1; extra == \"inference\"->farm-haystack[colab,faiss,inference]) (3.1.2)\n",
            "Requirement already satisfied: click in /Users/anuarmenconemes/opt/anaconda3/envs/hacktoberfest-env/lib/python3.10/site-packages (from nltk->sentence-transformers>=2.2.0->farm-haystack[colab,faiss,inference]) (8.1.7)\n",
            "Requirement already satisfied: docopt>=0.6.2 in /Users/anuarmenconemes/opt/anaconda3/envs/hacktoberfest-env/lib/python3.10/site-packages (from num2words->quantulum3->farm-haystack[colab,faiss,inference]) (0.6.2)\n",
            "Requirement already satisfied: MarkupSafe>=2.0 in /Users/anuarmenconemes/opt/anaconda3/envs/hacktoberfest-env/lib/python3.10/site-packages (from jinja2->torch!=1.12.0,>=1.9->transformers[sentencepiece,torch]==4.32.1; extra == \"inference\"->farm-haystack[colab,faiss,inference]) (2.1.3)\n",
            "Requirement already satisfied: mpmath>=0.19 in /Users/anuarmenconemes/opt/anaconda3/envs/hacktoberfest-env/lib/python3.10/site-packages (from sympy->torch!=1.12.0,>=1.9->transformers[sentencepiece,torch]==4.32.1; extra == \"inference\"->farm-haystack[colab,faiss,inference]) (1.3.0)\n"
          ]
        },
        {
          "name": "stderr",
          "output_type": "stream",
          "text": [
            "\u001b[0m"
          ]
        }
      ],
      "source": [
        "%%bash\n",
        "\n",
        "pip install --upgrade pip\n",
        "pip install farm-haystack[colab,inference,faiss]\n"
      ]
    },
    {
      "cell_type": "markdown",
      "metadata": {
        "id": "hMTHNcxQ3qIH"
      },
      "source": [
        "# Creación del FAISS document store"
      ]
    },
    {
      "cell_type": "code",
      "execution_count": null,
      "metadata": {},
      "outputs": [],
      "source": [
        "\n"
      ]
    },
    {
      "cell_type": "code",
      "execution_count": null,
      "metadata": {},
      "outputs": [],
      "source": []
    },
    {
      "cell_type": "code",
      "execution_count": null,
      "metadata": {},
      "outputs": [],
      "source": []
    },
    {
      "cell_type": "code",
      "execution_count": 3,
      "metadata": {
        "colab": {
          "base_uri": "https://localhost:8080/",
          "height": 1000,
          "referenced_widgets": [
            "b3356cd109e64ca386d398034556dd3f",
            "4a591b30196a43e4a9dc2c405f052689",
            "f036ff205daf4ad9badd537bbeb4d614",
            "c17e10e2c4af484f866d1d32b7495ff8",
            "1aa95e8f20584aaa800ff2da08b7af9e",
            "be3d692cc47d4e4d97dda786d073e657",
            "e4c1e93ba32644d89ddbf62e9b507663",
            "0e1461298a7f4d48b816ff60b7cec329",
            "e7ab2f7b90b54104ab549ba9257400d8",
            "f73ced8e83e94edbb57ac62a09d2713b",
            "a9053832f2bf4468a933ecc6244d3bc3",
            "0fefb0106232404690c8a279b11a1e9f",
            "61586398bd6b40ab8fda59a0d338f20b",
            "f815bf5c1b8147a49e353f3c517e4de7",
            "694b5a193b3d48aa911fdbe1afc01307",
            "dd9ae751f6774939a49e366299f73474",
            "d23b47b1cc0046fdb44f625e9a1e6e24",
            "f7d3aafe5350415ba6922c756fc6543e",
            "070567fab88d47d89fb70b2f2e976761",
            "f6d41b56d11e440bb48bd6eff1dfc3af",
            "e086dd3815ee4b98a0f6c8bef1bf56c8",
            "b8ab8c4e50d442fcb23ef1c48b935a0e"
          ]
        },
        "id": "EHdZDsVQ3oz8",
        "outputId": "e7cf48ff-1709-4837-b788-23031f15cd15"
      },
      "outputs": [
        {
          "name": "stderr",
          "output_type": "stream",
          "text": [
            "INFO - haystack.modeling.utils -  Using devices: CPU - Number of GPUs: 0\n"
          ]
        },
        {
          "data": {
            "application/vnd.jupyter.widget-view+json": {
              "model_id": "f799669c4c074398b19a77992bb9d784",
              "version_major": 2,
              "version_minor": 0
            },
            "text/plain": [
              "Downloading (…)ce_transformers.json:   0%|          | 0.00/116 [00:00<?, ?B/s]"
            ]
          },
          "metadata": {},
          "output_type": "display_data"
        },
        {
          "name": "stderr",
          "output_type": "stream",
          "text": [
            "INFO - haystack.nodes.retriever.dense -  Init retriever using embeddings of model sentence-transformers/multi-qa-mpnet-base-dot-v1\n"
          ]
        },
        {
          "data": {
            "application/vnd.jupyter.widget-view+json": {
              "model_id": "91633aa6103447aa83a0f92a320205c3",
              "version_major": 2,
              "version_minor": 0
            },
            "text/plain": [
              "Downloading (…)16ebc/.gitattributes:   0%|          | 0.00/737 [00:00<?, ?B/s]"
            ]
          },
          "metadata": {},
          "output_type": "display_data"
        },
        {
          "data": {
            "application/vnd.jupyter.widget-view+json": {
              "model_id": "8a7d0467cad5429896f5ac777175855b",
              "version_major": 2,
              "version_minor": 0
            },
            "text/plain": [
              "Downloading (…)_Pooling/config.json:   0%|          | 0.00/190 [00:00<?, ?B/s]"
            ]
          },
          "metadata": {},
          "output_type": "display_data"
        },
        {
          "data": {
            "application/vnd.jupyter.widget-view+json": {
              "model_id": "fbc3436ef5494f73ab3c3c56d3b29792",
              "version_major": 2,
              "version_minor": 0
            },
            "text/plain": [
              "Downloading (…)b6b5d16ebc/README.md:   0%|          | 0.00/8.65k [00:00<?, ?B/s]"
            ]
          },
          "metadata": {},
          "output_type": "display_data"
        },
        {
          "data": {
            "application/vnd.jupyter.widget-view+json": {
              "model_id": "48b13dd835a249d69e180e19310d1534",
              "version_major": 2,
              "version_minor": 0
            },
            "text/plain": [
              "Downloading (…)b5d16ebc/config.json:   0%|          | 0.00/571 [00:00<?, ?B/s]"
            ]
          },
          "metadata": {},
          "output_type": "display_data"
        },
        {
          "data": {
            "application/vnd.jupyter.widget-view+json": {
              "model_id": "d72ee67f1b2f4692a9f18cca0da5930f",
              "version_major": 2,
              "version_minor": 0
            },
            "text/plain": [
              "Downloading (…)ce_transformers.json:   0%|          | 0.00/116 [00:00<?, ?B/s]"
            ]
          },
          "metadata": {},
          "output_type": "display_data"
        },
        {
          "data": {
            "application/vnd.jupyter.widget-view+json": {
              "model_id": "8586826689394cc4abcea2198ffb52ba",
              "version_major": 2,
              "version_minor": 0
            },
            "text/plain": [
              "Downloading (…)ebc/data_config.json:   0%|          | 0.00/25.5k [00:00<?, ?B/s]"
            ]
          },
          "metadata": {},
          "output_type": "display_data"
        },
        {
          "data": {
            "application/vnd.jupyter.widget-view+json": {
              "model_id": "6328a16c151c4a138c79d8460921d698",
              "version_major": 2,
              "version_minor": 0
            },
            "text/plain": [
              "Downloading pytorch_model.bin:   0%|          | 0.00/438M [00:00<?, ?B/s]"
            ]
          },
          "metadata": {},
          "output_type": "display_data"
        },
        {
          "data": {
            "application/vnd.jupyter.widget-view+json": {
              "model_id": "026066c31f0743afb8155070aca333e4",
              "version_major": 2,
              "version_minor": 0
            },
            "text/plain": [
              "Downloading (…)nce_bert_config.json:   0%|          | 0.00/53.0 [00:00<?, ?B/s]"
            ]
          },
          "metadata": {},
          "output_type": "display_data"
        },
        {
          "data": {
            "application/vnd.jupyter.widget-view+json": {
              "model_id": "46f03fd9802d46edbc7e2579fa8b85bd",
              "version_major": 2,
              "version_minor": 0
            },
            "text/plain": [
              "Downloading (…)cial_tokens_map.json:   0%|          | 0.00/239 [00:00<?, ?B/s]"
            ]
          },
          "metadata": {},
          "output_type": "display_data"
        },
        {
          "data": {
            "application/vnd.jupyter.widget-view+json": {
              "model_id": "b9f41ffe895342b0bd98f87aeb290dbd",
              "version_major": 2,
              "version_minor": 0
            },
            "text/plain": [
              "Downloading (…)16ebc/tokenizer.json:   0%|          | 0.00/466k [00:00<?, ?B/s]"
            ]
          },
          "metadata": {},
          "output_type": "display_data"
        },
        {
          "data": {
            "application/vnd.jupyter.widget-view+json": {
              "model_id": "72ac1d15300540f3a2e052b730001f40",
              "version_major": 2,
              "version_minor": 0
            },
            "text/plain": [
              "Downloading (…)okenizer_config.json:   0%|          | 0.00/363 [00:00<?, ?B/s]"
            ]
          },
          "metadata": {},
          "output_type": "display_data"
        },
        {
          "data": {
            "application/vnd.jupyter.widget-view+json": {
              "model_id": "4b6aa9f2a0434ca59412046368dd4d58",
              "version_major": 2,
              "version_minor": 0
            },
            "text/plain": [
              "Downloading (…)6ebc/train_script.py:   0%|          | 0.00/13.9k [00:00<?, ?B/s]"
            ]
          },
          "metadata": {},
          "output_type": "display_data"
        },
        {
          "data": {
            "application/vnd.jupyter.widget-view+json": {
              "model_id": "c09a378787e640e59aa1236380bff56e",
              "version_major": 2,
              "version_minor": 0
            },
            "text/plain": [
              "Downloading (…)b6b5d16ebc/vocab.txt:   0%|          | 0.00/232k [00:00<?, ?B/s]"
            ]
          },
          "metadata": {},
          "output_type": "display_data"
        },
        {
          "data": {
            "application/vnd.jupyter.widget-view+json": {
              "model_id": "1b4c4f7c7bd3454081cb7d25fb814c2c",
              "version_major": 2,
              "version_minor": 0
            },
            "text/plain": [
              "Downloading (…)5d16ebc/modules.json:   0%|          | 0.00/229 [00:00<?, ?B/s]"
            ]
          },
          "metadata": {},
          "output_type": "display_data"
        },
        {
          "name": "stderr",
          "output_type": "stream",
          "text": [
            "/Users/anuarmenconemes/opt/anaconda3/envs/hacktoberfest-env/lib/python3.10/site-packages/torch/_utils.py:776: UserWarning: TypedStorage is deprecated. It will be removed in the future and UntypedStorage will be the only storage class. This should only matter to you if you are using storages directly.  To access UntypedStorage directly, use tensor.untyped_storage() instead of tensor.storage()\n",
            "  return self.fget.__get__(instance, owner)()\n",
            "Preprocessing: 0docs [00:00, ?docs/s]\n",
            "WARNING - haystack.document_stores.faiss -  Calling DocumentStore.update_embeddings() on an empty index\n"
          ]
        }
      ],
      "source": [
        "import os\n",
        "from haystack import Pipeline\n",
        "from haystack.document_stores import FAISSDocumentStore\n",
        "from haystack.nodes import PreProcessor,EmbeddingRetriever\n",
        "from haystack.utils import convert_files_to_docs\n",
        "\n",
        "# Verificar si el archivo existe\n",
        "if os.path.exists(\"faiss_document_store.db\"):\n",
        "    os.remove(\"faiss_document_store.db\")\n",
        "if os.path.exists(\"my_index.faiss\"):\n",
        "    os.remove(\"my_index.faiss\")\n",
        "if os.path.exists(\"my_config.json\"):\n",
        "    os.remove(\"my_config.json\")\n",
        "\n",
        "all_docs = convert_files_to_docs(dir_path=\"../../notebooks/Sentencias_2022\")\n",
        "preprocessor = PreProcessor(\n",
        "    clean_empty_lines=True,\n",
        "    clean_whitespace=True,\n",
        "    clean_header_footer=False,\n",
        "    split_by=\"word\",\n",
        "    split_length=100,\n",
        ")\n",
        "\n",
        "document_store = FAISSDocumentStore(faiss_index_factory_str=\"Flat\")\n",
        "retriever = EmbeddingRetriever(document_store = document_store,\n",
        "                               embedding_model=\"sentence-transformers/multi-qa-mpnet-base-dot-v1\")\n",
        "\n",
        "docs = preprocessor.process(all_docs)\n",
        "document_store.write_documents(docs)\n",
        "document_store.update_embeddings(retriever)\n",
        "document_store.save(index_path=\"my_index.faiss\", config_path=\"my_config.json\")\n"
      ]
    },
    {
      "cell_type": "markdown",
      "metadata": {
        "id": "1BXuwlMdjS2q"
      },
      "source": [
        "Verificación corta de carga de document store"
      ]
    },
    {
      "cell_type": "code",
      "execution_count": null,
      "metadata": {
        "id": "f6rP6fkUjnlx"
      },
      "outputs": [],
      "source": [
        "import os\n",
        "from haystack import Pipeline\n",
        "from haystack.document_stores import FAISSDocumentStore\n",
        "from haystack.nodes import EmbeddingRetriever, PromptNode, PromptTemplate, AnswerParser\n",
        "\n",
        "# verificando si existe el document store\n",
        "if os.path.exists(\"my_index.faiss\"):\n",
        "   document_store = FAISSDocumentStore.load(index_path=\"my_index.faiss\", config_path=\"my_config.json\")\n",
        "   print(\"encontrado faiss ds\")"
      ]
    },
    {
      "cell_type": "markdown",
      "metadata": {
        "id": "9Ls1xl--kMYI"
      },
      "source": [
        "# Ejecución de pregunta\n",
        "- Carga de document store creado en etapa anterior"
      ]
    },
    {
      "cell_type": "code",
      "execution_count": null,
      "metadata": {
        "colab": {
          "base_uri": "https://localhost:8080/",
          "height": 124,
          "referenced_widgets": [
            "7b1ee8582abf4eebb60986507cf93bf3",
            "f3ef2d41174348cd80c4cbc1aa3975b5",
            "c3a13ab6f8c3476a9ea46f15a38785f4",
            "1033f201ca8d41aab388a54745bc17a5",
            "f9c6f2b5c3b247a89aa0f85f8df57979",
            "74e7f47f1a8e4df1b0ffd9d01b3d4b1f",
            "529d143b5a5b4653a13e8415f7bc9feb",
            "9ccaa2d04d5a47c4abc34b33fa8f0348",
            "34734a17372e4e76a0245979de2aa8de",
            "18309f2e17694be28a238c8d90b9b04a",
            "3ada42097ff7460ca196eb418034ed3d"
          ]
        },
        "id": "Ja7jteI_kFfN",
        "outputId": "13e60acd-7627-45f0-9f8e-f1b93fad2274"
      },
      "outputs": [
        {
          "name": "stderr",
          "output_type": "stream",
          "text": [
            "INFO:haystack.modeling.utils:Using devices: CUDA:0 - Number of GPUs: 1\n",
            "INFO:haystack.nodes.retriever.dense:Init retriever using embeddings of model sentence-transformers/multi-qa-mpnet-base-dot-v1\n"
          ]
        },
        {
          "data": {
            "application/vnd.jupyter.widget-view+json": {
              "model_id": "7b1ee8582abf4eebb60986507cf93bf3",
              "version_major": 2,
              "version_minor": 0
            },
            "text/plain": [
              "Batches:   0%|          | 0/1 [00:00<?, ?it/s]"
            ]
          },
          "metadata": {},
          "output_type": "display_data"
        },
        {
          "name": "stdout",
          "output_type": "stream",
          "text": [
            "{'answers': [<Answer {'answer': 'El derecho al trabajo se viola cuando el empleado es despedido sin una justa causa, o es obligado a realizar un trabajo contra su voluntad. También se viola este derecho cuando se suspenden los contratos laborales sin la debida autorización del Inspector de Trabajo, lo cual pone al trabajador en desventaja.', 'type': 'generative', 'score': None, 'context': None, 'offsets_in_document': None, 'offsets_in_context': None, 'document_ids': ['1ad2774a408682784d5588eb111dbf63', '8513ef2c5e26671414b3debbcc847619', 'ebed880703baf25c117e980a03b68e63', '9369092f28758e01f7ad177818053246', '17238bf7423fad30e6b924750219ebb4', 'c8aea16a034ed3a9eb4585849c9ffb82', 'a06a098d70f704938a90b4454a6c08', '9690d6c978bcb8cb9277e1624fefcac6', 'bf8901965b671c22cd7e037a05472e43', '253da48cddf5075f51830b78fc96d8fb'], 'meta': {'prompt': 'Synthesize a comprehensive answer from the following text for the given question.\\n                             Provide a clear and concise response that summarizes the key points and information presented in the text.\\n                             Your answer should be in your own words and be no longer than 50 words.\\n                             \\n\\n Related text: Dicho derecho implica para el empleado la posibilidad de continuar en el empleo\\ny gozar de los respectivos salarios y prestaciones, inclusive, así el empleador\\nno esté de acuerdo, a menos que medie una justa causa para despedir al\\ntrabajador[27].\\n\\n112.  Al respecto, en\\nla Sentencia T-949 de 2011 la Corte señaló:\\n\\n\\x93el derecho al buen nombre\\xa0tiene carácter personalísimo, relacionado como está con la\\nvalía que los miembros de una sociedad tengan sobre alguien, siendo\\xa0la\\nreputación o fama\\xa0de la persona el componente que activa la protección del\\nderecho.  Además,\\xa0\\x93la continuidad en las prestaciones que pueda recibir\\nla trabajadora representan la posibilidad de gozar plenamente de sus derechos y\\nlos de su familia, en especial el derecho a la vida digna, a la seguridad\\nsocial, a la educación, a la alimentación y a la vivienda digna\\x94.\\nEn suma, la tutela\\nes procedente de manera excepcional cuando se presenta la afectación de\\nderechos fundamentales de la madre cabeza de familia, al tratarse de\\nsujeto de especial protección constitucional, en situación de debilidad\\nmanifiesta\\x94. Énfasis agregado.\\n\\n En cualquier\\ncaso, respecto del nivel de peligro, la autoridad encargada de garantizar el\\nderecho a la vida debe eliminar o, al menos minimizar la exposición a los\\nriesgos que lo ponen en peligro.\\n\\n Con todo, las afectaciones a su derecho a la salud las ha enfrentado a través\\notras acciones de tutela[38].\\nExpuso que actualmente se automedica, pues optó por prescindir del\\nacompañamiento médico para evitar cuestionamientos y la constante vulneración\\nde sus derechos. Pese a que reconoce que ello pone en riesgo su vida adujo que,\\ncomo varias personas trans, lo hace para evitar acudir a un sistema de salud\\nque no reconoce sus derechos y le procura tratos indignos.\\n\\nSobre lo ocurrido en el Centro Carcelario y\\nPenitenciario Bellavista, aclaró que no acudió a la acción de tutela.  En el ámbito del derecho internacional, el artículo 6 del Pacto\\nInternacional de los Derechos Económicos, Sociales y Culturales (PIDESC),\\nincorporado al derecho interno mediante la Ley 74 de 1968, consagra el derecho\\nal trabajo, que «comprende el derecho de toda persona a tener la oportunidad de\\nganarse la vida mediante un trabajo libremente escogido o aceptado». Esto\\nsupone, en los términos del Comité del PIDESC, el derecho a «no ser obligado de\\nalguna manera a ejercer o efectuar un trabajo y el derecho de acceso a un\\nsistema de protección que garantice a cada trabajador su acceso a empleo.\\n Cuando sea evidente que la violación del derecho originó un daño consumado,\\nsalvo cuando continúe la acción u omisión violatoria del derecho\\x94.\\n\\n[75]\\nCfr., Corte Constitucional. Sentencias T-349 de 2019 y T-306 de 2020.\\n\\n[76]\\nCfr., Corte Constitucional. Sentencia\\nSU-522 de 2019, en la que se reitera la Sentencia SU-225 de 2013.\\n\\n[77]\\nExpediente digital. Documento de pdf titulado \\x93Tutela y Anexos\\nAdolfo Enrique Fontalvo\\x94, f. 63.\\n\\n[78]\\nExpediente digital. Carpeta \\x93Pruebas revisión\\x94. Documento\\npdf titulado \\x93Historia laboral Adolfo Enrique Fontalvo Agudelo 3 de\\nseptiembre de 2021\\x94, f. 6.\\n\\n[79]\\nExpediente digital. Carpeta \\x93Pruebas revisión\\x94.  Esta conducta, como se señaló, atenta contra\\nel principio de buena fe y no puede ser amparada por las autoridades.\\n\\nDe todo lo anterior se concluye que en\\neste caso el rector de la Institución Educativa La Libertad no vulneró el\\nderecho fundamental a la vivienda digna de la accionante.\\n\\nEstudio del tercer\\nproblema jurídico: ¿la Alcaldía de Bucaramanga\\nvulneró el derecho fundamental de petición de la accionante, al no haber dado\\nuna respuesta a su solicitud dentro del término previsto en el artículo 14 la\\nLey 1755 de 2015?\\n\\nContenido y alcance del derecho fundamental de\\npetición\\n\\n61.\\n [29]\\n\\nEn la\\nmisma dirección, el fundamento de derecho invocado en la demanda de tutela fueron\\nlos artículos 1º, 2º y 3º de la Ley 1996 de 2019, \\x93Por medio de la cual se\\nestablece el régimen para el ejercicio de la capacidad legal de las personas\\ncon discapacidad mayores de edad\\x94. De manera que no cabe duda de que la\\npetición de la actora es la adjudicación de apoyo transitorio de que trata esta\\nnorma.\\n\\n Además, no\\nes posible suspender los contratos de trabajo de las personas que se encuentren\\ncon estabilidad reforzada, sin que medie también autorización por parte del\\nInspector de Trabajo, pues es evidente que esta circunstancia afecta los\\nderechos del trabajador y lo pone incluso en una situación de desventaja.\\n\\n \\n\\n Question: ¿cuando se viola el derecho al trabajo? \\n\\n Answer:'}}>], 'invocation_context': {'query': '¿cuando se viola el derecho al trabajo?', 'documents': [<Document: {'content': 'Dicho derecho implica para el empleado la posibilidad de continuar en el empleo\\ny gozar de los respectivos salarios y prestaciones, inclusive, así el empleador\\nno esté de acuerdo, a menos que medie una justa causa para despedir al\\ntrabajador[27].\\n\\n112. ', 'content_type': 'text', 'score': 0.5642512977742173, 'meta': {'name': 'T-035-22.txt', '_split_id': 154, 'vector_id': '477'}, 'id_hash_keys': ['content'], 'embedding': None, 'id': '1ad2774a408682784d5588eb111dbf63'}>, <Document: {'content': 'Al respecto, en\\nla Sentencia T-949 de 2011 la Corte señaló:\\n\\n\\x93el derecho al buen nombre\\xa0tiene carácter personalísimo, relacionado como está con la\\nvalía que los miembros de una sociedad tengan sobre alguien, siendo\\xa0la\\nreputación o fama\\xa0de la persona el componente que activa la protección del\\nderecho. ', 'content_type': 'text', 'score': 0.5639268040586439, 'meta': {'name': 'T-028-22.txt', '_split_id': 189, 'vector_id': '5091'}, 'id_hash_keys': ['content'], 'embedding': None, 'id': '8513ef2c5e26671414b3debbcc847619'}>, <Document: {'content': 'Además,\\xa0\\x93la continuidad en las prestaciones que pueda recibir\\nla trabajadora representan la posibilidad de gozar plenamente de sus derechos y\\nlos de su familia, en especial el derecho a la vida digna, a la seguridad\\nsocial, a la educación, a la alimentación y a la vivienda digna\\x94.\\nEn suma, la tutela\\nes procedente de manera excepcional cuando se presenta la afectación de\\nderechos fundamentales de la madre cabeza de familia, al tratarse de\\nsujeto de especial protección constitucional, en situación de debilidad\\nmanifiesta\\x94. Énfasis agregado.\\n\\n', 'content_type': 'text', 'score': 0.5627928571124512, 'meta': {'name': 'T-012-22.txt', '_split_id': 171, 'vector_id': '9616'}, 'id_hash_keys': ['content'], 'embedding': None, 'id': 'ebed880703baf25c117e980a03b68e63'}>, <Document: {'content': 'En cualquier\\ncaso, respecto del nivel de peligro, la autoridad encargada de garantizar el\\nderecho a la vida debe eliminar o, al menos minimizar la exposición a los\\nriesgos que lo ponen en peligro.\\n\\n', 'content_type': 'text', 'score': 0.5626042813338481, 'meta': {'name': 'T-015-22.txt', '_split_id': 2, 'vector_id': '5701'}, 'id_hash_keys': ['content'], 'embedding': None, 'id': '9369092f28758e01f7ad177818053246'}>, <Document: {'content': 'Con todo, las afectaciones a su derecho a la salud las ha enfrentado a través\\notras acciones de tutela[38].\\nExpuso que actualmente se automedica, pues optó por prescindir del\\nacompañamiento médico para evitar cuestionamientos y la constante vulneración\\nde sus derechos. Pese a que reconoce que ello pone en riesgo su vida adujo que,\\ncomo varias personas trans, lo hace para evitar acudir a un sistema de salud\\nque no reconoce sus derechos y le procura tratos indignos.\\n\\nSobre lo ocurrido en el Centro Carcelario y\\nPenitenciario Bellavista, aclaró que no acudió a la acción de tutela. ', 'content_type': 'text', 'score': 0.5625588184344533, 'meta': {'name': 'T-033-22.txt', '_split_id': 64, 'vector_id': '312'}, 'id_hash_keys': ['content'], 'embedding': None, 'id': '17238bf7423fad30e6b924750219ebb4'}>, <Document: {'content': 'En el ámbito del derecho internacional, el artículo 6 del Pacto\\nInternacional de los Derechos Económicos, Sociales y Culturales (PIDESC),\\nincorporado al derecho interno mediante la Ley 74 de 1968, consagra el derecho\\nal trabajo, que «comprende el derecho de toda persona a tener la oportunidad de\\nganarse la vida mediante un trabajo libremente escogido o aceptado». Esto\\nsupone, en los términos del Comité del PIDESC, el derecho a «no ser obligado de\\nalguna manera a ejercer o efectuar un trabajo y el derecho de acceso a un\\nsistema de protección que garantice a cada trabajador su acceso a empleo.\\n', 'content_type': 'text', 'score': 0.56228133869789, 'meta': {'name': 'T-007-22.txt', '_split_id': 149, 'vector_id': '8035'}, 'id_hash_keys': ['content'], 'embedding': None, 'id': 'c8aea16a034ed3a9eb4585849c9ffb82'}>, <Document: {'content': 'Cuando sea evidente que la violación del derecho originó un daño consumado,\\nsalvo cuando continúe la acción u omisión violatoria del derecho\\x94.\\n\\n[75]\\nCfr., Corte Constitucional. Sentencias T-349 de 2019 y T-306 de 2020.\\n\\n[76]\\nCfr., Corte Constitucional. Sentencia\\nSU-522 de 2019, en la que se reitera la Sentencia SU-225 de 2013.\\n\\n[77]\\nExpediente digital. Documento de pdf titulado \\x93Tutela y Anexos\\nAdolfo Enrique Fontalvo\\x94, f. 63.\\n\\n[78]\\nExpediente digital. Carpeta \\x93Pruebas revisión\\x94. Documento\\npdf titulado \\x93Historia laboral Adolfo Enrique Fontalvo Agudelo 3 de\\nseptiembre de 2021\\x94, f. 6.\\n\\n[79]\\nExpediente digital. Carpeta \\x93Pruebas revisión\\x94. ', 'content_type': 'text', 'score': 0.5618464358777293, 'meta': {'name': 'T-002-22.txt', '_split_id': 159, 'vector_id': '6277'}, 'id_hash_keys': ['content'], 'embedding': None, 'id': 'a06a098d70f704938a90b4454a6c08'}>, <Document: {'content': 'Esta conducta, como se señaló, atenta contra\\nel principio de buena fe y no puede ser amparada por las autoridades.\\n\\nDe todo lo anterior se concluye que en\\neste caso el rector de la Institución Educativa La Libertad no vulneró el\\nderecho fundamental a la vivienda digna de la accionante.\\n\\nEstudio del tercer\\nproblema jurídico: ¿la Alcaldía de Bucaramanga\\nvulneró el derecho fundamental de petición de la accionante, al no haber dado\\nuna respuesta a su solicitud dentro del término previsto en el artículo 14 la\\nLey 1755 de 2015?\\n\\nContenido y alcance del derecho fundamental de\\npetición\\n\\n61.\\n', 'content_type': 'text', 'score': 0.5617881977831716, 'meta': {'name': 'T-006-22.txt', '_split_id': 209, 'vector_id': '5840'}, 'id_hash_keys': ['content'], 'embedding': None, 'id': '9690d6c978bcb8cb9277e1624fefcac6'}>, <Document: {'content': '[29]\\n\\nEn la\\nmisma dirección, el fundamento de derecho invocado en la demanda de tutela fueron\\nlos artículos 1º, 2º y 3º de la Ley 1996 de 2019, \\x93Por medio de la cual se\\nestablece el régimen para el ejercicio de la capacidad legal de las personas\\ncon discapacidad mayores de edad\\x94. De manera que no cabe duda de que la\\npetición de la actora es la adjudicación de apoyo transitorio de que trata esta\\nnorma.\\n\\n', 'content_type': 'text', 'score': 0.5615442253992349, 'meta': {'name': 'T-042-22.txt', '_split_id': 24, 'vector_id': '7623'}, 'id_hash_keys': ['content'], 'embedding': None, 'id': 'bf8901965b671c22cd7e037a05472e43'}>, <Document: {'content': 'Además, no\\nes posible suspender los contratos de trabajo de las personas que se encuentren\\ncon estabilidad reforzada, sin que medie también autorización por parte del\\nInspector de Trabajo, pues es evidente que esta circunstancia afecta los\\nderechos del trabajador y lo pone incluso en una situación de desventaja.\\n\\n', 'content_type': 'text', 'score': 0.5614157822023684, 'meta': {'name': 'T-035-22.txt', '_split_id': 4, 'vector_id': '938'}, 'id_hash_keys': ['content'], 'embedding': None, 'id': '253da48cddf5075f51830b78fc96d8fb'}>], 'answers': [<Answer {'answer': 'El derecho al trabajo se viola cuando el empleado es despedido sin una justa causa, o es obligado a realizar un trabajo contra su voluntad. También se viola este derecho cuando se suspenden los contratos laborales sin la debida autorización del Inspector de Trabajo, lo cual pone al trabajador en desventaja.', 'type': 'generative', 'score': None, 'context': None, 'offsets_in_document': None, 'offsets_in_context': None, 'document_ids': ['1ad2774a408682784d5588eb111dbf63', '8513ef2c5e26671414b3debbcc847619', 'ebed880703baf25c117e980a03b68e63', '9369092f28758e01f7ad177818053246', '17238bf7423fad30e6b924750219ebb4', 'c8aea16a034ed3a9eb4585849c9ffb82', 'a06a098d70f704938a90b4454a6c08', '9690d6c978bcb8cb9277e1624fefcac6', 'bf8901965b671c22cd7e037a05472e43', '253da48cddf5075f51830b78fc96d8fb'], 'meta': {'prompt': 'Synthesize a comprehensive answer from the following text for the given question.\\n                             Provide a clear and concise response that summarizes the key points and information presented in the text.\\n                             Your answer should be in your own words and be no longer than 50 words.\\n                             \\n\\n Related text: Dicho derecho implica para el empleado la posibilidad de continuar en el empleo\\ny gozar de los respectivos salarios y prestaciones, inclusive, así el empleador\\nno esté de acuerdo, a menos que medie una justa causa para despedir al\\ntrabajador[27].\\n\\n112.  Al respecto, en\\nla Sentencia T-949 de 2011 la Corte señaló:\\n\\n\\x93el derecho al buen nombre\\xa0tiene carácter personalísimo, relacionado como está con la\\nvalía que los miembros de una sociedad tengan sobre alguien, siendo\\xa0la\\nreputación o fama\\xa0de la persona el componente que activa la protección del\\nderecho.  Además,\\xa0\\x93la continuidad en las prestaciones que pueda recibir\\nla trabajadora representan la posibilidad de gozar plenamente de sus derechos y\\nlos de su familia, en especial el derecho a la vida digna, a la seguridad\\nsocial, a la educación, a la alimentación y a la vivienda digna\\x94.\\nEn suma, la tutela\\nes procedente de manera excepcional cuando se presenta la afectación de\\nderechos fundamentales de la madre cabeza de familia, al tratarse de\\nsujeto de especial protección constitucional, en situación de debilidad\\nmanifiesta\\x94. Énfasis agregado.\\n\\n En cualquier\\ncaso, respecto del nivel de peligro, la autoridad encargada de garantizar el\\nderecho a la vida debe eliminar o, al menos minimizar la exposición a los\\nriesgos que lo ponen en peligro.\\n\\n Con todo, las afectaciones a su derecho a la salud las ha enfrentado a través\\notras acciones de tutela[38].\\nExpuso que actualmente se automedica, pues optó por prescindir del\\nacompañamiento médico para evitar cuestionamientos y la constante vulneración\\nde sus derechos. Pese a que reconoce que ello pone en riesgo su vida adujo que,\\ncomo varias personas trans, lo hace para evitar acudir a un sistema de salud\\nque no reconoce sus derechos y le procura tratos indignos.\\n\\nSobre lo ocurrido en el Centro Carcelario y\\nPenitenciario Bellavista, aclaró que no acudió a la acción de tutela.  En el ámbito del derecho internacional, el artículo 6 del Pacto\\nInternacional de los Derechos Económicos, Sociales y Culturales (PIDESC),\\nincorporado al derecho interno mediante la Ley 74 de 1968, consagra el derecho\\nal trabajo, que «comprende el derecho de toda persona a tener la oportunidad de\\nganarse la vida mediante un trabajo libremente escogido o aceptado». Esto\\nsupone, en los términos del Comité del PIDESC, el derecho a «no ser obligado de\\nalguna manera a ejercer o efectuar un trabajo y el derecho de acceso a un\\nsistema de protección que garantice a cada trabajador su acceso a empleo.\\n Cuando sea evidente que la violación del derecho originó un daño consumado,\\nsalvo cuando continúe la acción u omisión violatoria del derecho\\x94.\\n\\n[75]\\nCfr., Corte Constitucional. Sentencias T-349 de 2019 y T-306 de 2020.\\n\\n[76]\\nCfr., Corte Constitucional. Sentencia\\nSU-522 de 2019, en la que se reitera la Sentencia SU-225 de 2013.\\n\\n[77]\\nExpediente digital. Documento de pdf titulado \\x93Tutela y Anexos\\nAdolfo Enrique Fontalvo\\x94, f. 63.\\n\\n[78]\\nExpediente digital. Carpeta \\x93Pruebas revisión\\x94. Documento\\npdf titulado \\x93Historia laboral Adolfo Enrique Fontalvo Agudelo 3 de\\nseptiembre de 2021\\x94, f. 6.\\n\\n[79]\\nExpediente digital. Carpeta \\x93Pruebas revisión\\x94.  Esta conducta, como se señaló, atenta contra\\nel principio de buena fe y no puede ser amparada por las autoridades.\\n\\nDe todo lo anterior se concluye que en\\neste caso el rector de la Institución Educativa La Libertad no vulneró el\\nderecho fundamental a la vivienda digna de la accionante.\\n\\nEstudio del tercer\\nproblema jurídico: ¿la Alcaldía de Bucaramanga\\nvulneró el derecho fundamental de petición de la accionante, al no haber dado\\nuna respuesta a su solicitud dentro del término previsto en el artículo 14 la\\nLey 1755 de 2015?\\n\\nContenido y alcance del derecho fundamental de\\npetición\\n\\n61.\\n [29]\\n\\nEn la\\nmisma dirección, el fundamento de derecho invocado en la demanda de tutela fueron\\nlos artículos 1º, 2º y 3º de la Ley 1996 de 2019, \\x93Por medio de la cual se\\nestablece el régimen para el ejercicio de la capacidad legal de las personas\\ncon discapacidad mayores de edad\\x94. De manera que no cabe duda de que la\\npetición de la actora es la adjudicación de apoyo transitorio de que trata esta\\nnorma.\\n\\n Además, no\\nes posible suspender los contratos de trabajo de las personas que se encuentren\\ncon estabilidad reforzada, sin que medie también autorización por parte del\\nInspector de Trabajo, pues es evidente que esta circunstancia afecta los\\nderechos del trabajador y lo pone incluso en una situación de desventaja.\\n\\n \\n\\n Question: ¿cuando se viola el derecho al trabajo? \\n\\n Answer:'}}>], 'prompts': ['Synthesize a comprehensive answer from the following text for the given question.\\n                             Provide a clear and concise response that summarizes the key points and information presented in the text.\\n                             Your answer should be in your own words and be no longer than 50 words.\\n                             \\n\\n Related text: Dicho derecho implica para el empleado la posibilidad de continuar en el empleo\\ny gozar de los respectivos salarios y prestaciones, inclusive, así el empleador\\nno esté de acuerdo, a menos que medie una justa causa para despedir al\\ntrabajador[27].\\n\\n112.  Al respecto, en\\nla Sentencia T-949 de 2011 la Corte señaló:\\n\\n\\x93el derecho al buen nombre\\xa0tiene carácter personalísimo, relacionado como está con la\\nvalía que los miembros de una sociedad tengan sobre alguien, siendo\\xa0la\\nreputación o fama\\xa0de la persona el componente que activa la protección del\\nderecho.  Además,\\xa0\\x93la continuidad en las prestaciones que pueda recibir\\nla trabajadora representan la posibilidad de gozar plenamente de sus derechos y\\nlos de su familia, en especial el derecho a la vida digna, a la seguridad\\nsocial, a la educación, a la alimentación y a la vivienda digna\\x94.\\nEn suma, la tutela\\nes procedente de manera excepcional cuando se presenta la afectación de\\nderechos fundamentales de la madre cabeza de familia, al tratarse de\\nsujeto de especial protección constitucional, en situación de debilidad\\nmanifiesta\\x94. Énfasis agregado.\\n\\n En cualquier\\ncaso, respecto del nivel de peligro, la autoridad encargada de garantizar el\\nderecho a la vida debe eliminar o, al menos minimizar la exposición a los\\nriesgos que lo ponen en peligro.\\n\\n Con todo, las afectaciones a su derecho a la salud las ha enfrentado a través\\notras acciones de tutela[38].\\nExpuso que actualmente se automedica, pues optó por prescindir del\\nacompañamiento médico para evitar cuestionamientos y la constante vulneración\\nde sus derechos. Pese a que reconoce que ello pone en riesgo su vida adujo que,\\ncomo varias personas trans, lo hace para evitar acudir a un sistema de salud\\nque no reconoce sus derechos y le procura tratos indignos.\\n\\nSobre lo ocurrido en el Centro Carcelario y\\nPenitenciario Bellavista, aclaró que no acudió a la acción de tutela.  En el ámbito del derecho internacional, el artículo 6 del Pacto\\nInternacional de los Derechos Económicos, Sociales y Culturales (PIDESC),\\nincorporado al derecho interno mediante la Ley 74 de 1968, consagra el derecho\\nal trabajo, que «comprende el derecho de toda persona a tener la oportunidad de\\nganarse la vida mediante un trabajo libremente escogido o aceptado». Esto\\nsupone, en los términos del Comité del PIDESC, el derecho a «no ser obligado de\\nalguna manera a ejercer o efectuar un trabajo y el derecho de acceso a un\\nsistema de protección que garantice a cada trabajador su acceso a empleo.\\n Cuando sea evidente que la violación del derecho originó un daño consumado,\\nsalvo cuando continúe la acción u omisión violatoria del derecho\\x94.\\n\\n[75]\\nCfr., Corte Constitucional. Sentencias T-349 de 2019 y T-306 de 2020.\\n\\n[76]\\nCfr., Corte Constitucional. Sentencia\\nSU-522 de 2019, en la que se reitera la Sentencia SU-225 de 2013.\\n\\n[77]\\nExpediente digital. Documento de pdf titulado \\x93Tutela y Anexos\\nAdolfo Enrique Fontalvo\\x94, f. 63.\\n\\n[78]\\nExpediente digital. Carpeta \\x93Pruebas revisión\\x94. Documento\\npdf titulado \\x93Historia laboral Adolfo Enrique Fontalvo Agudelo 3 de\\nseptiembre de 2021\\x94, f. 6.\\n\\n[79]\\nExpediente digital. Carpeta \\x93Pruebas revisión\\x94.  Esta conducta, como se señaló, atenta contra\\nel principio de buena fe y no puede ser amparada por las autoridades.\\n\\nDe todo lo anterior se concluye que en\\neste caso el rector de la Institución Educativa La Libertad no vulneró el\\nderecho fundamental a la vivienda digna de la accionante.\\n\\nEstudio del tercer\\nproblema jurídico: ¿la Alcaldía de Bucaramanga\\nvulneró el derecho fundamental de petición de la accionante, al no haber dado\\nuna respuesta a su solicitud dentro del término previsto en el artículo 14 la\\nLey 1755 de 2015?\\n\\nContenido y alcance del derecho fundamental de\\npetición\\n\\n61.\\n [29]\\n\\nEn la\\nmisma dirección, el fundamento de derecho invocado en la demanda de tutela fueron\\nlos artículos 1º, 2º y 3º de la Ley 1996 de 2019, \\x93Por medio de la cual se\\nestablece el régimen para el ejercicio de la capacidad legal de las personas\\ncon discapacidad mayores de edad\\x94. De manera que no cabe duda de que la\\npetición de la actora es la adjudicación de apoyo transitorio de que trata esta\\nnorma.\\n\\n Además, no\\nes posible suspender los contratos de trabajo de las personas que se encuentren\\ncon estabilidad reforzada, sin que medie también autorización por parte del\\nInspector de Trabajo, pues es evidente que esta circunstancia afecta los\\nderechos del trabajador y lo pone incluso en una situación de desventaja.\\n\\n \\n\\n Question: ¿cuando se viola el derecho al trabajo? \\n\\n Answer:']}, 'documents': [<Document: {'content': 'Dicho derecho implica para el empleado la posibilidad de continuar en el empleo\\ny gozar de los respectivos salarios y prestaciones, inclusive, así el empleador\\nno esté de acuerdo, a menos que medie una justa causa para despedir al\\ntrabajador[27].\\n\\n112. ', 'content_type': 'text', 'score': 0.5642512977742173, 'meta': {'name': 'T-035-22.txt', '_split_id': 154, 'vector_id': '477'}, 'id_hash_keys': ['content'], 'embedding': None, 'id': '1ad2774a408682784d5588eb111dbf63'}>, <Document: {'content': 'Al respecto, en\\nla Sentencia T-949 de 2011 la Corte señaló:\\n\\n\\x93el derecho al buen nombre\\xa0tiene carácter personalísimo, relacionado como está con la\\nvalía que los miembros de una sociedad tengan sobre alguien, siendo\\xa0la\\nreputación o fama\\xa0de la persona el componente que activa la protección del\\nderecho. ', 'content_type': 'text', 'score': 0.5639268040586439, 'meta': {'name': 'T-028-22.txt', '_split_id': 189, 'vector_id': '5091'}, 'id_hash_keys': ['content'], 'embedding': None, 'id': '8513ef2c5e26671414b3debbcc847619'}>, <Document: {'content': 'Además,\\xa0\\x93la continuidad en las prestaciones que pueda recibir\\nla trabajadora representan la posibilidad de gozar plenamente de sus derechos y\\nlos de su familia, en especial el derecho a la vida digna, a la seguridad\\nsocial, a la educación, a la alimentación y a la vivienda digna\\x94.\\nEn suma, la tutela\\nes procedente de manera excepcional cuando se presenta la afectación de\\nderechos fundamentales de la madre cabeza de familia, al tratarse de\\nsujeto de especial protección constitucional, en situación de debilidad\\nmanifiesta\\x94. Énfasis agregado.\\n\\n', 'content_type': 'text', 'score': 0.5627928571124512, 'meta': {'name': 'T-012-22.txt', '_split_id': 171, 'vector_id': '9616'}, 'id_hash_keys': ['content'], 'embedding': None, 'id': 'ebed880703baf25c117e980a03b68e63'}>, <Document: {'content': 'En cualquier\\ncaso, respecto del nivel de peligro, la autoridad encargada de garantizar el\\nderecho a la vida debe eliminar o, al menos minimizar la exposición a los\\nriesgos que lo ponen en peligro.\\n\\n', 'content_type': 'text', 'score': 0.5626042813338481, 'meta': {'name': 'T-015-22.txt', '_split_id': 2, 'vector_id': '5701'}, 'id_hash_keys': ['content'], 'embedding': None, 'id': '9369092f28758e01f7ad177818053246'}>, <Document: {'content': 'Con todo, las afectaciones a su derecho a la salud las ha enfrentado a través\\notras acciones de tutela[38].\\nExpuso que actualmente se automedica, pues optó por prescindir del\\nacompañamiento médico para evitar cuestionamientos y la constante vulneración\\nde sus derechos. Pese a que reconoce que ello pone en riesgo su vida adujo que,\\ncomo varias personas trans, lo hace para evitar acudir a un sistema de salud\\nque no reconoce sus derechos y le procura tratos indignos.\\n\\nSobre lo ocurrido en el Centro Carcelario y\\nPenitenciario Bellavista, aclaró que no acudió a la acción de tutela. ', 'content_type': 'text', 'score': 0.5625588184344533, 'meta': {'name': 'T-033-22.txt', '_split_id': 64, 'vector_id': '312'}, 'id_hash_keys': ['content'], 'embedding': None, 'id': '17238bf7423fad30e6b924750219ebb4'}>, <Document: {'content': 'En el ámbito del derecho internacional, el artículo 6 del Pacto\\nInternacional de los Derechos Económicos, Sociales y Culturales (PIDESC),\\nincorporado al derecho interno mediante la Ley 74 de 1968, consagra el derecho\\nal trabajo, que «comprende el derecho de toda persona a tener la oportunidad de\\nganarse la vida mediante un trabajo libremente escogido o aceptado». Esto\\nsupone, en los términos del Comité del PIDESC, el derecho a «no ser obligado de\\nalguna manera a ejercer o efectuar un trabajo y el derecho de acceso a un\\nsistema de protección que garantice a cada trabajador su acceso a empleo.\\n', 'content_type': 'text', 'score': 0.56228133869789, 'meta': {'name': 'T-007-22.txt', '_split_id': 149, 'vector_id': '8035'}, 'id_hash_keys': ['content'], 'embedding': None, 'id': 'c8aea16a034ed3a9eb4585849c9ffb82'}>, <Document: {'content': 'Cuando sea evidente que la violación del derecho originó un daño consumado,\\nsalvo cuando continúe la acción u omisión violatoria del derecho\\x94.\\n\\n[75]\\nCfr., Corte Constitucional. Sentencias T-349 de 2019 y T-306 de 2020.\\n\\n[76]\\nCfr., Corte Constitucional. Sentencia\\nSU-522 de 2019, en la que se reitera la Sentencia SU-225 de 2013.\\n\\n[77]\\nExpediente digital. Documento de pdf titulado \\x93Tutela y Anexos\\nAdolfo Enrique Fontalvo\\x94, f. 63.\\n\\n[78]\\nExpediente digital. Carpeta \\x93Pruebas revisión\\x94. Documento\\npdf titulado \\x93Historia laboral Adolfo Enrique Fontalvo Agudelo 3 de\\nseptiembre de 2021\\x94, f. 6.\\n\\n[79]\\nExpediente digital. Carpeta \\x93Pruebas revisión\\x94. ', 'content_type': 'text', 'score': 0.5618464358777293, 'meta': {'name': 'T-002-22.txt', '_split_id': 159, 'vector_id': '6277'}, 'id_hash_keys': ['content'], 'embedding': None, 'id': 'a06a098d70f704938a90b4454a6c08'}>, <Document: {'content': 'Esta conducta, como se señaló, atenta contra\\nel principio de buena fe y no puede ser amparada por las autoridades.\\n\\nDe todo lo anterior se concluye que en\\neste caso el rector de la Institución Educativa La Libertad no vulneró el\\nderecho fundamental a la vivienda digna de la accionante.\\n\\nEstudio del tercer\\nproblema jurídico: ¿la Alcaldía de Bucaramanga\\nvulneró el derecho fundamental de petición de la accionante, al no haber dado\\nuna respuesta a su solicitud dentro del término previsto en el artículo 14 la\\nLey 1755 de 2015?\\n\\nContenido y alcance del derecho fundamental de\\npetición\\n\\n61.\\n', 'content_type': 'text', 'score': 0.5617881977831716, 'meta': {'name': 'T-006-22.txt', '_split_id': 209, 'vector_id': '5840'}, 'id_hash_keys': ['content'], 'embedding': None, 'id': '9690d6c978bcb8cb9277e1624fefcac6'}>, <Document: {'content': '[29]\\n\\nEn la\\nmisma dirección, el fundamento de derecho invocado en la demanda de tutela fueron\\nlos artículos 1º, 2º y 3º de la Ley 1996 de 2019, \\x93Por medio de la cual se\\nestablece el régimen para el ejercicio de la capacidad legal de las personas\\ncon discapacidad mayores de edad\\x94. De manera que no cabe duda de que la\\npetición de la actora es la adjudicación de apoyo transitorio de que trata esta\\nnorma.\\n\\n', 'content_type': 'text', 'score': 0.5615442253992349, 'meta': {'name': 'T-042-22.txt', '_split_id': 24, 'vector_id': '7623'}, 'id_hash_keys': ['content'], 'embedding': None, 'id': 'bf8901965b671c22cd7e037a05472e43'}>, <Document: {'content': 'Además, no\\nes posible suspender los contratos de trabajo de las personas que se encuentren\\ncon estabilidad reforzada, sin que medie también autorización por parte del\\nInspector de Trabajo, pues es evidente que esta circunstancia afecta los\\nderechos del trabajador y lo pone incluso en una situación de desventaja.\\n\\n', 'content_type': 'text', 'score': 0.5614157822023684, 'meta': {'name': 'T-035-22.txt', '_split_id': 4, 'vector_id': '938'}, 'id_hash_keys': ['content'], 'embedding': None, 'id': '253da48cddf5075f51830b78fc96d8fb'}>], 'root_node': 'Query', 'params': {}, 'query': '¿cuando se viola el derecho al trabajo?', 'node_id': 'PromptNode'}\n"
          ]
        }
      ],
      "source": [
        "import os\n",
        "from haystack import Pipeline\n",
        "from haystack.document_stores import FAISSDocumentStore\n",
        "from haystack.nodes import EmbeddingRetriever, PromptNode, PromptTemplate, AnswerParser\n",
        "\n",
        "# verificando si existe el document store\n",
        "if os.path.exists(\"my_index.faiss\"):\n",
        "   document_store = FAISSDocumentStore.load(index_path=\"my_index.faiss\", config_path=\"my_config.json\")\n",
        "\n",
        "# - Embedding de los documentos del document store\n",
        "\n",
        "rag_prompt = PromptTemplate(\n",
        "    prompt=\"\"\"Synthesize a comprehensive answer from the following text for the given question.\n",
        "                             Provide a clear and concise response that summarizes the key points and information presented in the text.\n",
        "                             Your answer should be in your own words and be no longer than 50 words.\n",
        "                             \\n\\n Related text: {join(documents)} \\n\\n Question: {query} \\n\\n Answer:\"\"\",\n",
        "    output_parser=AnswerParser(),\n",
        ")\n",
        "\n",
        "#api key elka\n",
        "#openai_api_key = \"\"\n",
        "\n",
        "#api key anuar\n",
        "openai_api_key = \"\"\n",
        "\n",
        "model = \"gpt-4\"\n",
        "#model = \"text-davinci-003\"\n",
        "#model= \"deepset/roberta-base-squad2\"\n",
        "#prompt_node = PromptNode()\n",
        "# default_prompt_template = \"deepset/question-answering-with-references\"\n",
        "#sentence-transformers/distiluse-base-multilingual-cased-v1\n",
        "\n",
        "prompt_node = PromptNode(\n",
        "    model_name_or_path= model, api_key=openai_api_key, default_prompt_template=rag_prompt\n",
        ")\n",
        "\n",
        "retriever = EmbeddingRetriever(document_store = document_store,\n",
        "                               embedding_model=\"sentence-transformers/multi-qa-mpnet-base-dot-v1\")\n",
        "\n",
        "query_pipeline = Pipeline()\n",
        "query_pipeline.add_node(component=retriever, name=\"Retriever\", inputs=[\"Query\"])\n",
        "query_pipeline.add_node(component=prompt_node, name=\"PromptNode\", inputs=[\"Retriever\"])\n",
        "\n",
        "respuesta = query_pipeline.run(query = \"¿cuando se viola el derecho al trabajo?\")\n",
        "\n",
        "print(respuesta)"
      ]
    },
    {
      "cell_type": "markdown",
      "metadata": {
        "id": "UTMRGQiWl9Co"
      },
      "source": []
    }
  ],
  "metadata": {
    "accelerator": "GPU",
    "colab": {
      "gpuType": "T4",
      "provenance": []
    },
    "kernelspec": {
      "display_name": "Python 3",
      "name": "python3"
    },
    "language_info": {
      "codemirror_mode": {
        "name": "ipython",
        "version": 3
      },
      "file_extension": ".py",
      "mimetype": "text/x-python",
      "name": "python",
      "nbconvert_exporter": "python",
      "pygments_lexer": "ipython3",
      "version": "3.10.13"
    },
    "widgets": {
      "application/vnd.jupyter.widget-state+json": {
        "070567fab88d47d89fb70b2f2e976761": {
          "model_module": "@jupyter-widgets/base",
          "model_module_version": "1.2.0",
          "model_name": "LayoutModel",
          "state": {
            "_model_module": "@jupyter-widgets/base",
            "_model_module_version": "1.2.0",
            "_model_name": "LayoutModel",
            "_view_count": null,
            "_view_module": "@jupyter-widgets/base",
            "_view_module_version": "1.2.0",
            "_view_name": "LayoutView",
            "align_content": null,
            "align_items": null,
            "align_self": null,
            "border": null,
            "bottom": null,
            "display": null,
            "flex": null,
            "flex_flow": null,
            "grid_area": null,
            "grid_auto_columns": null,
            "grid_auto_flow": null,
            "grid_auto_rows": null,
            "grid_column": null,
            "grid_gap": null,
            "grid_row": null,
            "grid_template_areas": null,
            "grid_template_columns": null,
            "grid_template_rows": null,
            "height": null,
            "justify_content": null,
            "justify_items": null,
            "left": null,
            "margin": null,
            "max_height": null,
            "max_width": null,
            "min_height": null,
            "min_width": null,
            "object_fit": null,
            "object_position": null,
            "order": null,
            "overflow": null,
            "overflow_x": null,
            "overflow_y": null,
            "padding": null,
            "right": null,
            "top": null,
            "visibility": null,
            "width": null
          }
        },
        "0e1461298a7f4d48b816ff60b7cec329": {
          "model_module": "@jupyter-widgets/base",
          "model_module_version": "1.2.0",
          "model_name": "LayoutModel",
          "state": {
            "_model_module": "@jupyter-widgets/base",
            "_model_module_version": "1.2.0",
            "_model_name": "LayoutModel",
            "_view_count": null,
            "_view_module": "@jupyter-widgets/base",
            "_view_module_version": "1.2.0",
            "_view_name": "LayoutView",
            "align_content": null,
            "align_items": null,
            "align_self": null,
            "border": null,
            "bottom": null,
            "display": null,
            "flex": null,
            "flex_flow": null,
            "grid_area": null,
            "grid_auto_columns": null,
            "grid_auto_flow": null,
            "grid_auto_rows": null,
            "grid_column": null,
            "grid_gap": null,
            "grid_row": null,
            "grid_template_areas": null,
            "grid_template_columns": null,
            "grid_template_rows": null,
            "height": null,
            "justify_content": null,
            "justify_items": null,
            "left": null,
            "margin": null,
            "max_height": null,
            "max_width": null,
            "min_height": null,
            "min_width": null,
            "object_fit": null,
            "object_position": null,
            "order": null,
            "overflow": null,
            "overflow_x": null,
            "overflow_y": null,
            "padding": null,
            "right": null,
            "top": null,
            "visibility": null,
            "width": null
          }
        },
        "0fefb0106232404690c8a279b11a1e9f": {
          "model_module": "@jupyter-widgets/controls",
          "model_module_version": "1.5.0",
          "model_name": "HBoxModel",
          "state": {
            "_dom_classes": [],
            "_model_module": "@jupyter-widgets/controls",
            "_model_module_version": "1.5.0",
            "_model_name": "HBoxModel",
            "_view_count": null,
            "_view_module": "@jupyter-widgets/controls",
            "_view_module_version": "1.5.0",
            "_view_name": "HBoxView",
            "box_style": "",
            "children": [
              "IPY_MODEL_61586398bd6b40ab8fda59a0d338f20b",
              "IPY_MODEL_f815bf5c1b8147a49e353f3c517e4de7",
              "IPY_MODEL_694b5a193b3d48aa911fdbe1afc01307"
            ],
            "layout": "IPY_MODEL_dd9ae751f6774939a49e366299f73474"
          }
        },
        "1033f201ca8d41aab388a54745bc17a5": {
          "model_module": "@jupyter-widgets/controls",
          "model_module_version": "1.5.0",
          "model_name": "HTMLModel",
          "state": {
            "_dom_classes": [],
            "_model_module": "@jupyter-widgets/controls",
            "_model_module_version": "1.5.0",
            "_model_name": "HTMLModel",
            "_view_count": null,
            "_view_module": "@jupyter-widgets/controls",
            "_view_module_version": "1.5.0",
            "_view_name": "HTMLView",
            "description": "",
            "description_tooltip": null,
            "layout": "IPY_MODEL_18309f2e17694be28a238c8d90b9b04a",
            "placeholder": "​",
            "style": "IPY_MODEL_3ada42097ff7460ca196eb418034ed3d",
            "value": " 1/1 [00:00&lt;00:00, 18.60it/s]"
          }
        },
        "18309f2e17694be28a238c8d90b9b04a": {
          "model_module": "@jupyter-widgets/base",
          "model_module_version": "1.2.0",
          "model_name": "LayoutModel",
          "state": {
            "_model_module": "@jupyter-widgets/base",
            "_model_module_version": "1.2.0",
            "_model_name": "LayoutModel",
            "_view_count": null,
            "_view_module": "@jupyter-widgets/base",
            "_view_module_version": "1.2.0",
            "_view_name": "LayoutView",
            "align_content": null,
            "align_items": null,
            "align_self": null,
            "border": null,
            "bottom": null,
            "display": null,
            "flex": null,
            "flex_flow": null,
            "grid_area": null,
            "grid_auto_columns": null,
            "grid_auto_flow": null,
            "grid_auto_rows": null,
            "grid_column": null,
            "grid_gap": null,
            "grid_row": null,
            "grid_template_areas": null,
            "grid_template_columns": null,
            "grid_template_rows": null,
            "height": null,
            "justify_content": null,
            "justify_items": null,
            "left": null,
            "margin": null,
            "max_height": null,
            "max_width": null,
            "min_height": null,
            "min_width": null,
            "object_fit": null,
            "object_position": null,
            "order": null,
            "overflow": null,
            "overflow_x": null,
            "overflow_y": null,
            "padding": null,
            "right": null,
            "top": null,
            "visibility": null,
            "width": null
          }
        },
        "1aa95e8f20584aaa800ff2da08b7af9e": {
          "model_module": "@jupyter-widgets/base",
          "model_module_version": "1.2.0",
          "model_name": "LayoutModel",
          "state": {
            "_model_module": "@jupyter-widgets/base",
            "_model_module_version": "1.2.0",
            "_model_name": "LayoutModel",
            "_view_count": null,
            "_view_module": "@jupyter-widgets/base",
            "_view_module_version": "1.2.0",
            "_view_name": "LayoutView",
            "align_content": null,
            "align_items": null,
            "align_self": null,
            "border": null,
            "bottom": null,
            "display": null,
            "flex": null,
            "flex_flow": null,
            "grid_area": null,
            "grid_auto_columns": null,
            "grid_auto_flow": null,
            "grid_auto_rows": null,
            "grid_column": null,
            "grid_gap": null,
            "grid_row": null,
            "grid_template_areas": null,
            "grid_template_columns": null,
            "grid_template_rows": null,
            "height": null,
            "justify_content": null,
            "justify_items": null,
            "left": null,
            "margin": null,
            "max_height": null,
            "max_width": null,
            "min_height": null,
            "min_width": null,
            "object_fit": null,
            "object_position": null,
            "order": null,
            "overflow": null,
            "overflow_x": null,
            "overflow_y": null,
            "padding": null,
            "right": null,
            "top": null,
            "visibility": null,
            "width": null
          }
        },
        "34734a17372e4e76a0245979de2aa8de": {
          "model_module": "@jupyter-widgets/controls",
          "model_module_version": "1.5.0",
          "model_name": "ProgressStyleModel",
          "state": {
            "_model_module": "@jupyter-widgets/controls",
            "_model_module_version": "1.5.0",
            "_model_name": "ProgressStyleModel",
            "_view_count": null,
            "_view_module": "@jupyter-widgets/base",
            "_view_module_version": "1.2.0",
            "_view_name": "StyleView",
            "bar_color": null,
            "description_width": ""
          }
        },
        "3ada42097ff7460ca196eb418034ed3d": {
          "model_module": "@jupyter-widgets/controls",
          "model_module_version": "1.5.0",
          "model_name": "DescriptionStyleModel",
          "state": {
            "_model_module": "@jupyter-widgets/controls",
            "_model_module_version": "1.5.0",
            "_model_name": "DescriptionStyleModel",
            "_view_count": null,
            "_view_module": "@jupyter-widgets/base",
            "_view_module_version": "1.2.0",
            "_view_name": "StyleView",
            "description_width": ""
          }
        },
        "4a591b30196a43e4a9dc2c405f052689": {
          "model_module": "@jupyter-widgets/controls",
          "model_module_version": "1.5.0",
          "model_name": "HTMLModel",
          "state": {
            "_dom_classes": [],
            "_model_module": "@jupyter-widgets/controls",
            "_model_module_version": "1.5.0",
            "_model_name": "HTMLModel",
            "_view_count": null,
            "_view_module": "@jupyter-widgets/controls",
            "_view_module_version": "1.5.0",
            "_view_name": "HTMLView",
            "description": "",
            "description_tooltip": null,
            "layout": "IPY_MODEL_be3d692cc47d4e4d97dda786d073e657",
            "placeholder": "​",
            "style": "IPY_MODEL_e4c1e93ba32644d89ddbf62e9b507663",
            "value": "Batches: 100%"
          }
        },
        "529d143b5a5b4653a13e8415f7bc9feb": {
          "model_module": "@jupyter-widgets/controls",
          "model_module_version": "1.5.0",
          "model_name": "DescriptionStyleModel",
          "state": {
            "_model_module": "@jupyter-widgets/controls",
            "_model_module_version": "1.5.0",
            "_model_name": "DescriptionStyleModel",
            "_view_count": null,
            "_view_module": "@jupyter-widgets/base",
            "_view_module_version": "1.2.0",
            "_view_name": "StyleView",
            "description_width": ""
          }
        },
        "61586398bd6b40ab8fda59a0d338f20b": {
          "model_module": "@jupyter-widgets/controls",
          "model_module_version": "1.5.0",
          "model_name": "HTMLModel",
          "state": {
            "_dom_classes": [],
            "_model_module": "@jupyter-widgets/controls",
            "_model_module_version": "1.5.0",
            "_model_name": "HTMLModel",
            "_view_count": null,
            "_view_module": "@jupyter-widgets/controls",
            "_view_module_version": "1.5.0",
            "_view_name": "HTMLView",
            "description": "",
            "description_tooltip": null,
            "layout": "IPY_MODEL_d23b47b1cc0046fdb44f625e9a1e6e24",
            "placeholder": "​",
            "style": "IPY_MODEL_f7d3aafe5350415ba6922c756fc6543e",
            "value": "Batches: 100%"
          }
        },
        "694b5a193b3d48aa911fdbe1afc01307": {
          "model_module": "@jupyter-widgets/controls",
          "model_module_version": "1.5.0",
          "model_name": "HTMLModel",
          "state": {
            "_dom_classes": [],
            "_model_module": "@jupyter-widgets/controls",
            "_model_module_version": "1.5.0",
            "_model_name": "HTMLModel",
            "_view_count": null,
            "_view_module": "@jupyter-widgets/controls",
            "_view_module_version": "1.5.0",
            "_view_name": "HTMLView",
            "description": "",
            "description_tooltip": null,
            "layout": "IPY_MODEL_e086dd3815ee4b98a0f6c8bef1bf56c8",
            "placeholder": "​",
            "style": "IPY_MODEL_b8ab8c4e50d442fcb23ef1c48b935a0e",
            "value": " 15/15 [00:06&lt;00:00,  3.92it/s]"
          }
        },
        "74e7f47f1a8e4df1b0ffd9d01b3d4b1f": {
          "model_module": "@jupyter-widgets/base",
          "model_module_version": "1.2.0",
          "model_name": "LayoutModel",
          "state": {
            "_model_module": "@jupyter-widgets/base",
            "_model_module_version": "1.2.0",
            "_model_name": "LayoutModel",
            "_view_count": null,
            "_view_module": "@jupyter-widgets/base",
            "_view_module_version": "1.2.0",
            "_view_name": "LayoutView",
            "align_content": null,
            "align_items": null,
            "align_self": null,
            "border": null,
            "bottom": null,
            "display": null,
            "flex": null,
            "flex_flow": null,
            "grid_area": null,
            "grid_auto_columns": null,
            "grid_auto_flow": null,
            "grid_auto_rows": null,
            "grid_column": null,
            "grid_gap": null,
            "grid_row": null,
            "grid_template_areas": null,
            "grid_template_columns": null,
            "grid_template_rows": null,
            "height": null,
            "justify_content": null,
            "justify_items": null,
            "left": null,
            "margin": null,
            "max_height": null,
            "max_width": null,
            "min_height": null,
            "min_width": null,
            "object_fit": null,
            "object_position": null,
            "order": null,
            "overflow": null,
            "overflow_x": null,
            "overflow_y": null,
            "padding": null,
            "right": null,
            "top": null,
            "visibility": null,
            "width": null
          }
        },
        "7b1ee8582abf4eebb60986507cf93bf3": {
          "model_module": "@jupyter-widgets/controls",
          "model_module_version": "1.5.0",
          "model_name": "HBoxModel",
          "state": {
            "_dom_classes": [],
            "_model_module": "@jupyter-widgets/controls",
            "_model_module_version": "1.5.0",
            "_model_name": "HBoxModel",
            "_view_count": null,
            "_view_module": "@jupyter-widgets/controls",
            "_view_module_version": "1.5.0",
            "_view_name": "HBoxView",
            "box_style": "",
            "children": [
              "IPY_MODEL_f3ef2d41174348cd80c4cbc1aa3975b5",
              "IPY_MODEL_c3a13ab6f8c3476a9ea46f15a38785f4",
              "IPY_MODEL_1033f201ca8d41aab388a54745bc17a5"
            ],
            "layout": "IPY_MODEL_f9c6f2b5c3b247a89aa0f85f8df57979"
          }
        },
        "9ccaa2d04d5a47c4abc34b33fa8f0348": {
          "model_module": "@jupyter-widgets/base",
          "model_module_version": "1.2.0",
          "model_name": "LayoutModel",
          "state": {
            "_model_module": "@jupyter-widgets/base",
            "_model_module_version": "1.2.0",
            "_model_name": "LayoutModel",
            "_view_count": null,
            "_view_module": "@jupyter-widgets/base",
            "_view_module_version": "1.2.0",
            "_view_name": "LayoutView",
            "align_content": null,
            "align_items": null,
            "align_self": null,
            "border": null,
            "bottom": null,
            "display": null,
            "flex": null,
            "flex_flow": null,
            "grid_area": null,
            "grid_auto_columns": null,
            "grid_auto_flow": null,
            "grid_auto_rows": null,
            "grid_column": null,
            "grid_gap": null,
            "grid_row": null,
            "grid_template_areas": null,
            "grid_template_columns": null,
            "grid_template_rows": null,
            "height": null,
            "justify_content": null,
            "justify_items": null,
            "left": null,
            "margin": null,
            "max_height": null,
            "max_width": null,
            "min_height": null,
            "min_width": null,
            "object_fit": null,
            "object_position": null,
            "order": null,
            "overflow": null,
            "overflow_x": null,
            "overflow_y": null,
            "padding": null,
            "right": null,
            "top": null,
            "visibility": null,
            "width": null
          }
        },
        "a9053832f2bf4468a933ecc6244d3bc3": {
          "model_module": "@jupyter-widgets/controls",
          "model_module_version": "1.5.0",
          "model_name": "DescriptionStyleModel",
          "state": {
            "_model_module": "@jupyter-widgets/controls",
            "_model_module_version": "1.5.0",
            "_model_name": "DescriptionStyleModel",
            "_view_count": null,
            "_view_module": "@jupyter-widgets/base",
            "_view_module_version": "1.2.0",
            "_view_name": "StyleView",
            "description_width": ""
          }
        },
        "b3356cd109e64ca386d398034556dd3f": {
          "model_module": "@jupyter-widgets/controls",
          "model_module_version": "1.5.0",
          "model_name": "HBoxModel",
          "state": {
            "_dom_classes": [],
            "_model_module": "@jupyter-widgets/controls",
            "_model_module_version": "1.5.0",
            "_model_name": "HBoxModel",
            "_view_count": null,
            "_view_module": "@jupyter-widgets/controls",
            "_view_module_version": "1.5.0",
            "_view_name": "HBoxView",
            "box_style": "",
            "children": [
              "IPY_MODEL_4a591b30196a43e4a9dc2c405f052689",
              "IPY_MODEL_f036ff205daf4ad9badd537bbeb4d614",
              "IPY_MODEL_c17e10e2c4af484f866d1d32b7495ff8"
            ],
            "layout": "IPY_MODEL_1aa95e8f20584aaa800ff2da08b7af9e"
          }
        },
        "b8ab8c4e50d442fcb23ef1c48b935a0e": {
          "model_module": "@jupyter-widgets/controls",
          "model_module_version": "1.5.0",
          "model_name": "DescriptionStyleModel",
          "state": {
            "_model_module": "@jupyter-widgets/controls",
            "_model_module_version": "1.5.0",
            "_model_name": "DescriptionStyleModel",
            "_view_count": null,
            "_view_module": "@jupyter-widgets/base",
            "_view_module_version": "1.2.0",
            "_view_name": "StyleView",
            "description_width": ""
          }
        },
        "be3d692cc47d4e4d97dda786d073e657": {
          "model_module": "@jupyter-widgets/base",
          "model_module_version": "1.2.0",
          "model_name": "LayoutModel",
          "state": {
            "_model_module": "@jupyter-widgets/base",
            "_model_module_version": "1.2.0",
            "_model_name": "LayoutModel",
            "_view_count": null,
            "_view_module": "@jupyter-widgets/base",
            "_view_module_version": "1.2.0",
            "_view_name": "LayoutView",
            "align_content": null,
            "align_items": null,
            "align_self": null,
            "border": null,
            "bottom": null,
            "display": null,
            "flex": null,
            "flex_flow": null,
            "grid_area": null,
            "grid_auto_columns": null,
            "grid_auto_flow": null,
            "grid_auto_rows": null,
            "grid_column": null,
            "grid_gap": null,
            "grid_row": null,
            "grid_template_areas": null,
            "grid_template_columns": null,
            "grid_template_rows": null,
            "height": null,
            "justify_content": null,
            "justify_items": null,
            "left": null,
            "margin": null,
            "max_height": null,
            "max_width": null,
            "min_height": null,
            "min_width": null,
            "object_fit": null,
            "object_position": null,
            "order": null,
            "overflow": null,
            "overflow_x": null,
            "overflow_y": null,
            "padding": null,
            "right": null,
            "top": null,
            "visibility": null,
            "width": null
          }
        },
        "c17e10e2c4af484f866d1d32b7495ff8": {
          "model_module": "@jupyter-widgets/controls",
          "model_module_version": "1.5.0",
          "model_name": "HTMLModel",
          "state": {
            "_dom_classes": [],
            "_model_module": "@jupyter-widgets/controls",
            "_model_module_version": "1.5.0",
            "_model_name": "HTMLModel",
            "_view_count": null,
            "_view_module": "@jupyter-widgets/controls",
            "_view_module_version": "1.5.0",
            "_view_name": "HTMLView",
            "description": "",
            "description_tooltip": null,
            "layout": "IPY_MODEL_f73ced8e83e94edbb57ac62a09d2713b",
            "placeholder": "​",
            "style": "IPY_MODEL_a9053832f2bf4468a933ecc6244d3bc3",
            "value": " 313/313 [02:05&lt;00:00,  8.23it/s]"
          }
        },
        "c3a13ab6f8c3476a9ea46f15a38785f4": {
          "model_module": "@jupyter-widgets/controls",
          "model_module_version": "1.5.0",
          "model_name": "FloatProgressModel",
          "state": {
            "_dom_classes": [],
            "_model_module": "@jupyter-widgets/controls",
            "_model_module_version": "1.5.0",
            "_model_name": "FloatProgressModel",
            "_view_count": null,
            "_view_module": "@jupyter-widgets/controls",
            "_view_module_version": "1.5.0",
            "_view_name": "ProgressView",
            "bar_style": "success",
            "description": "",
            "description_tooltip": null,
            "layout": "IPY_MODEL_9ccaa2d04d5a47c4abc34b33fa8f0348",
            "max": 1,
            "min": 0,
            "orientation": "horizontal",
            "style": "IPY_MODEL_34734a17372e4e76a0245979de2aa8de",
            "value": 1
          }
        },
        "d23b47b1cc0046fdb44f625e9a1e6e24": {
          "model_module": "@jupyter-widgets/base",
          "model_module_version": "1.2.0",
          "model_name": "LayoutModel",
          "state": {
            "_model_module": "@jupyter-widgets/base",
            "_model_module_version": "1.2.0",
            "_model_name": "LayoutModel",
            "_view_count": null,
            "_view_module": "@jupyter-widgets/base",
            "_view_module_version": "1.2.0",
            "_view_name": "LayoutView",
            "align_content": null,
            "align_items": null,
            "align_self": null,
            "border": null,
            "bottom": null,
            "display": null,
            "flex": null,
            "flex_flow": null,
            "grid_area": null,
            "grid_auto_columns": null,
            "grid_auto_flow": null,
            "grid_auto_rows": null,
            "grid_column": null,
            "grid_gap": null,
            "grid_row": null,
            "grid_template_areas": null,
            "grid_template_columns": null,
            "grid_template_rows": null,
            "height": null,
            "justify_content": null,
            "justify_items": null,
            "left": null,
            "margin": null,
            "max_height": null,
            "max_width": null,
            "min_height": null,
            "min_width": null,
            "object_fit": null,
            "object_position": null,
            "order": null,
            "overflow": null,
            "overflow_x": null,
            "overflow_y": null,
            "padding": null,
            "right": null,
            "top": null,
            "visibility": null,
            "width": null
          }
        },
        "dd9ae751f6774939a49e366299f73474": {
          "model_module": "@jupyter-widgets/base",
          "model_module_version": "1.2.0",
          "model_name": "LayoutModel",
          "state": {
            "_model_module": "@jupyter-widgets/base",
            "_model_module_version": "1.2.0",
            "_model_name": "LayoutModel",
            "_view_count": null,
            "_view_module": "@jupyter-widgets/base",
            "_view_module_version": "1.2.0",
            "_view_name": "LayoutView",
            "align_content": null,
            "align_items": null,
            "align_self": null,
            "border": null,
            "bottom": null,
            "display": null,
            "flex": null,
            "flex_flow": null,
            "grid_area": null,
            "grid_auto_columns": null,
            "grid_auto_flow": null,
            "grid_auto_rows": null,
            "grid_column": null,
            "grid_gap": null,
            "grid_row": null,
            "grid_template_areas": null,
            "grid_template_columns": null,
            "grid_template_rows": null,
            "height": null,
            "justify_content": null,
            "justify_items": null,
            "left": null,
            "margin": null,
            "max_height": null,
            "max_width": null,
            "min_height": null,
            "min_width": null,
            "object_fit": null,
            "object_position": null,
            "order": null,
            "overflow": null,
            "overflow_x": null,
            "overflow_y": null,
            "padding": null,
            "right": null,
            "top": null,
            "visibility": null,
            "width": null
          }
        },
        "e086dd3815ee4b98a0f6c8bef1bf56c8": {
          "model_module": "@jupyter-widgets/base",
          "model_module_version": "1.2.0",
          "model_name": "LayoutModel",
          "state": {
            "_model_module": "@jupyter-widgets/base",
            "_model_module_version": "1.2.0",
            "_model_name": "LayoutModel",
            "_view_count": null,
            "_view_module": "@jupyter-widgets/base",
            "_view_module_version": "1.2.0",
            "_view_name": "LayoutView",
            "align_content": null,
            "align_items": null,
            "align_self": null,
            "border": null,
            "bottom": null,
            "display": null,
            "flex": null,
            "flex_flow": null,
            "grid_area": null,
            "grid_auto_columns": null,
            "grid_auto_flow": null,
            "grid_auto_rows": null,
            "grid_column": null,
            "grid_gap": null,
            "grid_row": null,
            "grid_template_areas": null,
            "grid_template_columns": null,
            "grid_template_rows": null,
            "height": null,
            "justify_content": null,
            "justify_items": null,
            "left": null,
            "margin": null,
            "max_height": null,
            "max_width": null,
            "min_height": null,
            "min_width": null,
            "object_fit": null,
            "object_position": null,
            "order": null,
            "overflow": null,
            "overflow_x": null,
            "overflow_y": null,
            "padding": null,
            "right": null,
            "top": null,
            "visibility": null,
            "width": null
          }
        },
        "e4c1e93ba32644d89ddbf62e9b507663": {
          "model_module": "@jupyter-widgets/controls",
          "model_module_version": "1.5.0",
          "model_name": "DescriptionStyleModel",
          "state": {
            "_model_module": "@jupyter-widgets/controls",
            "_model_module_version": "1.5.0",
            "_model_name": "DescriptionStyleModel",
            "_view_count": null,
            "_view_module": "@jupyter-widgets/base",
            "_view_module_version": "1.2.0",
            "_view_name": "StyleView",
            "description_width": ""
          }
        },
        "e7ab2f7b90b54104ab549ba9257400d8": {
          "model_module": "@jupyter-widgets/controls",
          "model_module_version": "1.5.0",
          "model_name": "ProgressStyleModel",
          "state": {
            "_model_module": "@jupyter-widgets/controls",
            "_model_module_version": "1.5.0",
            "_model_name": "ProgressStyleModel",
            "_view_count": null,
            "_view_module": "@jupyter-widgets/base",
            "_view_module_version": "1.2.0",
            "_view_name": "StyleView",
            "bar_color": null,
            "description_width": ""
          }
        },
        "f036ff205daf4ad9badd537bbeb4d614": {
          "model_module": "@jupyter-widgets/controls",
          "model_module_version": "1.5.0",
          "model_name": "FloatProgressModel",
          "state": {
            "_dom_classes": [],
            "_model_module": "@jupyter-widgets/controls",
            "_model_module_version": "1.5.0",
            "_model_name": "FloatProgressModel",
            "_view_count": null,
            "_view_module": "@jupyter-widgets/controls",
            "_view_module_version": "1.5.0",
            "_view_name": "ProgressView",
            "bar_style": "success",
            "description": "",
            "description_tooltip": null,
            "layout": "IPY_MODEL_0e1461298a7f4d48b816ff60b7cec329",
            "max": 313,
            "min": 0,
            "orientation": "horizontal",
            "style": "IPY_MODEL_e7ab2f7b90b54104ab549ba9257400d8",
            "value": 313
          }
        },
        "f3ef2d41174348cd80c4cbc1aa3975b5": {
          "model_module": "@jupyter-widgets/controls",
          "model_module_version": "1.5.0",
          "model_name": "HTMLModel",
          "state": {
            "_dom_classes": [],
            "_model_module": "@jupyter-widgets/controls",
            "_model_module_version": "1.5.0",
            "_model_name": "HTMLModel",
            "_view_count": null,
            "_view_module": "@jupyter-widgets/controls",
            "_view_module_version": "1.5.0",
            "_view_name": "HTMLView",
            "description": "",
            "description_tooltip": null,
            "layout": "IPY_MODEL_74e7f47f1a8e4df1b0ffd9d01b3d4b1f",
            "placeholder": "​",
            "style": "IPY_MODEL_529d143b5a5b4653a13e8415f7bc9feb",
            "value": "Batches: 100%"
          }
        },
        "f6d41b56d11e440bb48bd6eff1dfc3af": {
          "model_module": "@jupyter-widgets/controls",
          "model_module_version": "1.5.0",
          "model_name": "ProgressStyleModel",
          "state": {
            "_model_module": "@jupyter-widgets/controls",
            "_model_module_version": "1.5.0",
            "_model_name": "ProgressStyleModel",
            "_view_count": null,
            "_view_module": "@jupyter-widgets/base",
            "_view_module_version": "1.2.0",
            "_view_name": "StyleView",
            "bar_color": null,
            "description_width": ""
          }
        },
        "f73ced8e83e94edbb57ac62a09d2713b": {
          "model_module": "@jupyter-widgets/base",
          "model_module_version": "1.2.0",
          "model_name": "LayoutModel",
          "state": {
            "_model_module": "@jupyter-widgets/base",
            "_model_module_version": "1.2.0",
            "_model_name": "LayoutModel",
            "_view_count": null,
            "_view_module": "@jupyter-widgets/base",
            "_view_module_version": "1.2.0",
            "_view_name": "LayoutView",
            "align_content": null,
            "align_items": null,
            "align_self": null,
            "border": null,
            "bottom": null,
            "display": null,
            "flex": null,
            "flex_flow": null,
            "grid_area": null,
            "grid_auto_columns": null,
            "grid_auto_flow": null,
            "grid_auto_rows": null,
            "grid_column": null,
            "grid_gap": null,
            "grid_row": null,
            "grid_template_areas": null,
            "grid_template_columns": null,
            "grid_template_rows": null,
            "height": null,
            "justify_content": null,
            "justify_items": null,
            "left": null,
            "margin": null,
            "max_height": null,
            "max_width": null,
            "min_height": null,
            "min_width": null,
            "object_fit": null,
            "object_position": null,
            "order": null,
            "overflow": null,
            "overflow_x": null,
            "overflow_y": null,
            "padding": null,
            "right": null,
            "top": null,
            "visibility": null,
            "width": null
          }
        },
        "f7d3aafe5350415ba6922c756fc6543e": {
          "model_module": "@jupyter-widgets/controls",
          "model_module_version": "1.5.0",
          "model_name": "DescriptionStyleModel",
          "state": {
            "_model_module": "@jupyter-widgets/controls",
            "_model_module_version": "1.5.0",
            "_model_name": "DescriptionStyleModel",
            "_view_count": null,
            "_view_module": "@jupyter-widgets/base",
            "_view_module_version": "1.2.0",
            "_view_name": "StyleView",
            "description_width": ""
          }
        },
        "f815bf5c1b8147a49e353f3c517e4de7": {
          "model_module": "@jupyter-widgets/controls",
          "model_module_version": "1.5.0",
          "model_name": "FloatProgressModel",
          "state": {
            "_dom_classes": [],
            "_model_module": "@jupyter-widgets/controls",
            "_model_module_version": "1.5.0",
            "_model_name": "FloatProgressModel",
            "_view_count": null,
            "_view_module": "@jupyter-widgets/controls",
            "_view_module_version": "1.5.0",
            "_view_name": "ProgressView",
            "bar_style": "success",
            "description": "",
            "description_tooltip": null,
            "layout": "IPY_MODEL_070567fab88d47d89fb70b2f2e976761",
            "max": 15,
            "min": 0,
            "orientation": "horizontal",
            "style": "IPY_MODEL_f6d41b56d11e440bb48bd6eff1dfc3af",
            "value": 15
          }
        },
        "f9c6f2b5c3b247a89aa0f85f8df57979": {
          "model_module": "@jupyter-widgets/base",
          "model_module_version": "1.2.0",
          "model_name": "LayoutModel",
          "state": {
            "_model_module": "@jupyter-widgets/base",
            "_model_module_version": "1.2.0",
            "_model_name": "LayoutModel",
            "_view_count": null,
            "_view_module": "@jupyter-widgets/base",
            "_view_module_version": "1.2.0",
            "_view_name": "LayoutView",
            "align_content": null,
            "align_items": null,
            "align_self": null,
            "border": null,
            "bottom": null,
            "display": null,
            "flex": null,
            "flex_flow": null,
            "grid_area": null,
            "grid_auto_columns": null,
            "grid_auto_flow": null,
            "grid_auto_rows": null,
            "grid_column": null,
            "grid_gap": null,
            "grid_row": null,
            "grid_template_areas": null,
            "grid_template_columns": null,
            "grid_template_rows": null,
            "height": null,
            "justify_content": null,
            "justify_items": null,
            "left": null,
            "margin": null,
            "max_height": null,
            "max_width": null,
            "min_height": null,
            "min_width": null,
            "object_fit": null,
            "object_position": null,
            "order": null,
            "overflow": null,
            "overflow_x": null,
            "overflow_y": null,
            "padding": null,
            "right": null,
            "top": null,
            "visibility": null,
            "width": null
          }
        }
      }
    }
  },
  "nbformat": 4,
  "nbformat_minor": 0
}
